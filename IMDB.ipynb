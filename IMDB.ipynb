{
 "cells": [
  {
   "cell_type": "code",
   "execution_count": 1,
   "metadata": {
    "nbpresent": {
     "id": "99f520df-3295-4f66-ae13-6a68ce07a354"
    }
   },
   "outputs": [],
   "source": [
    "import pandas as pd\n",
    "from sklearn.model_selection import cross_val_score\n",
    "from fuzzywuzzy import fuzz,process"
   ]
  },
  {
   "cell_type": "markdown",
   "metadata": {
    "nbpresent": {
     "id": "9af95911-7769-4f49-aba3-26f35b95d025"
    }
   },
   "source": [
    "# Primary DataSet:-\n",
    "\n",
    "Source:- https://www.kaggle.com/PromptCloudHQ/imdb-data/data"
   ]
  },
  {
   "cell_type": "code",
   "execution_count": 2,
   "metadata": {
    "nbpresent": {
     "id": "b39bfa9a-7e14-4a57-9966-23c3da0e50b1"
    }
   },
   "outputs": [],
   "source": [
    "db = pd.read_csv('IMDB-Movie-Data.csv')\n",
    "db.drop('Unnamed: 12',axis=1,inplace=True)"
   ]
  },
  {
   "cell_type": "code",
   "execution_count": 3,
   "metadata": {
    "nbpresent": {
     "id": "c7fac95e-7cc4-4329-a98c-bc2d044cfbb2"
    }
   },
   "outputs": [
    {
     "data": {
      "text/html": [
       "<div>\n",
       "<style scoped>\n",
       "    .dataframe tbody tr th:only-of-type {\n",
       "        vertical-align: middle;\n",
       "    }\n",
       "\n",
       "    .dataframe tbody tr th {\n",
       "        vertical-align: top;\n",
       "    }\n",
       "\n",
       "    .dataframe thead th {\n",
       "        text-align: right;\n",
       "    }\n",
       "</style>\n",
       "<table border=\"1\" class=\"dataframe\">\n",
       "  <thead>\n",
       "    <tr style=\"text-align: right;\">\n",
       "      <th></th>\n",
       "      <th>Rank</th>\n",
       "      <th>Title</th>\n",
       "      <th>Genre</th>\n",
       "      <th>Description</th>\n",
       "      <th>Director</th>\n",
       "      <th>Actors</th>\n",
       "      <th>Year</th>\n",
       "      <th>Runtime (Minutes)</th>\n",
       "      <th>Rating</th>\n",
       "      <th>Votes</th>\n",
       "      <th>Revenue (Millions)</th>\n",
       "      <th>Metascore</th>\n",
       "    </tr>\n",
       "  </thead>\n",
       "  <tbody>\n",
       "    <tr>\n",
       "      <th>0</th>\n",
       "      <td>1</td>\n",
       "      <td>Guardians of the Galaxy</td>\n",
       "      <td>Action,Adventure,Sci-Fi</td>\n",
       "      <td>A group of intergalactic criminals are forced ...</td>\n",
       "      <td>James Gunn</td>\n",
       "      <td>Chris Pratt, Vin Diesel, Bradley Cooper, Zoe S...</td>\n",
       "      <td>2014</td>\n",
       "      <td>121</td>\n",
       "      <td>8.1</td>\n",
       "      <td>757074.0</td>\n",
       "      <td>333.13</td>\n",
       "      <td>76.0</td>\n",
       "    </tr>\n",
       "    <tr>\n",
       "      <th>1</th>\n",
       "      <td>2</td>\n",
       "      <td>Prometheus</td>\n",
       "      <td>Adventure,Mystery,Sci-Fi</td>\n",
       "      <td>Following clues to the origin of mankind, a te...</td>\n",
       "      <td>Ridley Scott</td>\n",
       "      <td>Noomi Rapace, Logan Marshall-Green, Michael Fa...</td>\n",
       "      <td>2012</td>\n",
       "      <td>124</td>\n",
       "      <td>7.0</td>\n",
       "      <td>485820.0</td>\n",
       "      <td>126.46</td>\n",
       "      <td>65.0</td>\n",
       "    </tr>\n",
       "    <tr>\n",
       "      <th>2</th>\n",
       "      <td>3</td>\n",
       "      <td>Split</td>\n",
       "      <td>Horror,Thriller</td>\n",
       "      <td>Three girls are kidnapped by a man with a diag...</td>\n",
       "      <td>M. Night Shyamalan</td>\n",
       "      <td>James McAvoy, Anya Taylor-Joy, Haley Lu Richar...</td>\n",
       "      <td>2016</td>\n",
       "      <td>117</td>\n",
       "      <td>7.3</td>\n",
       "      <td>157606.0</td>\n",
       "      <td>138.12</td>\n",
       "      <td>62.0</td>\n",
       "    </tr>\n",
       "    <tr>\n",
       "      <th>3</th>\n",
       "      <td>4</td>\n",
       "      <td>Sing</td>\n",
       "      <td>Animation,Comedy,Family</td>\n",
       "      <td>In a city of humanoid animals, a hustling thea...</td>\n",
       "      <td>Christophe Lourdelet</td>\n",
       "      <td>Matthew McConaughey,Reese Witherspoon, Seth Ma...</td>\n",
       "      <td>2016</td>\n",
       "      <td>108</td>\n",
       "      <td>7.2</td>\n",
       "      <td>60545.0</td>\n",
       "      <td>270.32</td>\n",
       "      <td>59.0</td>\n",
       "    </tr>\n",
       "    <tr>\n",
       "      <th>4</th>\n",
       "      <td>5</td>\n",
       "      <td>Suicide Squad</td>\n",
       "      <td>Action,Adventure,Fantasy</td>\n",
       "      <td>A secret government agency recruits some of th...</td>\n",
       "      <td>David Ayer</td>\n",
       "      <td>Will Smith, Jared Leto, Margot Robbie, Viola D...</td>\n",
       "      <td>2016</td>\n",
       "      <td>123</td>\n",
       "      <td>6.2</td>\n",
       "      <td>393727.0</td>\n",
       "      <td>325.02</td>\n",
       "      <td>40.0</td>\n",
       "    </tr>\n",
       "    <tr>\n",
       "      <th>5</th>\n",
       "      <td>6</td>\n",
       "      <td>The Great Wall</td>\n",
       "      <td>Action,Adventure,Fantasy</td>\n",
       "      <td>European mercenaries searching for black powde...</td>\n",
       "      <td>Yimou Zhang</td>\n",
       "      <td>Matt Damon, Tian Jing, Willem Dafoe, Andy Lau</td>\n",
       "      <td>2016</td>\n",
       "      <td>103</td>\n",
       "      <td>6.1</td>\n",
       "      <td>56036.0</td>\n",
       "      <td>45.13</td>\n",
       "      <td>42.0</td>\n",
       "    </tr>\n",
       "    <tr>\n",
       "      <th>6</th>\n",
       "      <td>7</td>\n",
       "      <td>La La Land</td>\n",
       "      <td>Comedy,Drama,Music</td>\n",
       "      <td>A jazz pianist falls for an aspiring actress i...</td>\n",
       "      <td>Damien Chazelle</td>\n",
       "      <td>Ryan Gosling, Emma Stone, Rosemarie DeWitt, J....</td>\n",
       "      <td>2016</td>\n",
       "      <td>128</td>\n",
       "      <td>8.3</td>\n",
       "      <td>258682.0</td>\n",
       "      <td>151.06</td>\n",
       "      <td>93.0</td>\n",
       "    </tr>\n",
       "    <tr>\n",
       "      <th>7</th>\n",
       "      <td>8</td>\n",
       "      <td>Mindhorn</td>\n",
       "      <td>Comedy</td>\n",
       "      <td>A has-been actor best known for playing the ti...</td>\n",
       "      <td>Sean Foley</td>\n",
       "      <td>Essie Davis, Andrea Riseborough, Julian Barrat...</td>\n",
       "      <td>2016</td>\n",
       "      <td>89</td>\n",
       "      <td>6.4</td>\n",
       "      <td>2490.0</td>\n",
       "      <td>NaN</td>\n",
       "      <td>71.0</td>\n",
       "    </tr>\n",
       "    <tr>\n",
       "      <th>8</th>\n",
       "      <td>9</td>\n",
       "      <td>The Lost City of Z</td>\n",
       "      <td>Action,Adventure,Biography</td>\n",
       "      <td>A true-life drama, centering on British explor...</td>\n",
       "      <td>James Gray</td>\n",
       "      <td>Charlie Hunnam, Robert Pattinson, Sienna Mille...</td>\n",
       "      <td>2016</td>\n",
       "      <td>141</td>\n",
       "      <td>7.1</td>\n",
       "      <td>7188.0</td>\n",
       "      <td>8.01</td>\n",
       "      <td>78.0</td>\n",
       "    </tr>\n",
       "    <tr>\n",
       "      <th>9</th>\n",
       "      <td>10</td>\n",
       "      <td>Passengers</td>\n",
       "      <td>Adventure,Drama,Romance</td>\n",
       "      <td>A spacecraft traveling to a distant colony pla...</td>\n",
       "      <td>Morten Tyldum</td>\n",
       "      <td>Jennifer Lawrence, Chris Pratt, Michael Sheen,...</td>\n",
       "      <td>2016</td>\n",
       "      <td>116</td>\n",
       "      <td>7.0</td>\n",
       "      <td>192177.0</td>\n",
       "      <td>100.01</td>\n",
       "      <td>41.0</td>\n",
       "    </tr>\n",
       "  </tbody>\n",
       "</table>\n",
       "</div>"
      ],
      "text/plain": [
       "   Rank                    Title                       Genre  \\\n",
       "0     1  Guardians of the Galaxy     Action,Adventure,Sci-Fi   \n",
       "1     2               Prometheus    Adventure,Mystery,Sci-Fi   \n",
       "2     3                    Split             Horror,Thriller   \n",
       "3     4                     Sing     Animation,Comedy,Family   \n",
       "4     5            Suicide Squad    Action,Adventure,Fantasy   \n",
       "5     6           The Great Wall    Action,Adventure,Fantasy   \n",
       "6     7               La La Land          Comedy,Drama,Music   \n",
       "7     8                 Mindhorn                      Comedy   \n",
       "8     9       The Lost City of Z  Action,Adventure,Biography   \n",
       "9    10               Passengers     Adventure,Drama,Romance   \n",
       "\n",
       "                                         Description              Director  \\\n",
       "0  A group of intergalactic criminals are forced ...            James Gunn   \n",
       "1  Following clues to the origin of mankind, a te...          Ridley Scott   \n",
       "2  Three girls are kidnapped by a man with a diag...    M. Night Shyamalan   \n",
       "3  In a city of humanoid animals, a hustling thea...  Christophe Lourdelet   \n",
       "4  A secret government agency recruits some of th...            David Ayer   \n",
       "5  European mercenaries searching for black powde...           Yimou Zhang   \n",
       "6  A jazz pianist falls for an aspiring actress i...       Damien Chazelle   \n",
       "7  A has-been actor best known for playing the ti...            Sean Foley   \n",
       "8  A true-life drama, centering on British explor...            James Gray   \n",
       "9  A spacecraft traveling to a distant colony pla...         Morten Tyldum   \n",
       "\n",
       "                                              Actors  Year  Runtime (Minutes)  \\\n",
       "0  Chris Pratt, Vin Diesel, Bradley Cooper, Zoe S...  2014                121   \n",
       "1  Noomi Rapace, Logan Marshall-Green, Michael Fa...  2012                124   \n",
       "2  James McAvoy, Anya Taylor-Joy, Haley Lu Richar...  2016                117   \n",
       "3  Matthew McConaughey,Reese Witherspoon, Seth Ma...  2016                108   \n",
       "4  Will Smith, Jared Leto, Margot Robbie, Viola D...  2016                123   \n",
       "5      Matt Damon, Tian Jing, Willem Dafoe, Andy Lau  2016                103   \n",
       "6  Ryan Gosling, Emma Stone, Rosemarie DeWitt, J....  2016                128   \n",
       "7  Essie Davis, Andrea Riseborough, Julian Barrat...  2016                 89   \n",
       "8  Charlie Hunnam, Robert Pattinson, Sienna Mille...  2016                141   \n",
       "9  Jennifer Lawrence, Chris Pratt, Michael Sheen,...  2016                116   \n",
       "\n",
       "   Rating     Votes  Revenue (Millions)  Metascore  \n",
       "0     8.1  757074.0              333.13       76.0  \n",
       "1     7.0  485820.0              126.46       65.0  \n",
       "2     7.3  157606.0              138.12       62.0  \n",
       "3     7.2   60545.0              270.32       59.0  \n",
       "4     6.2  393727.0              325.02       40.0  \n",
       "5     6.1   56036.0               45.13       42.0  \n",
       "6     8.3  258682.0              151.06       93.0  \n",
       "7     6.4    2490.0                 NaN       71.0  \n",
       "8     7.1    7188.0                8.01       78.0  \n",
       "9     7.0  192177.0              100.01       41.0  "
      ]
     },
     "execution_count": 3,
     "metadata": {},
     "output_type": "execute_result"
    }
   ],
   "source": [
    "db.head(10)"
   ]
  },
  {
   "cell_type": "markdown",
   "metadata": {
    "nbpresent": {
     "id": "46ee4a30-5659-4625-9a7d-64a3b46c3fb0"
    }
   },
   "source": [
    "# Scraping HTML Pages:-"
   ]
  },
  {
   "cell_type": "markdown",
   "metadata": {
    "nbpresent": {
     "id": "d28d051d-3202-459a-9802-fcbeeae54e0d"
    }
   },
   "source": [
    "#### run to get the csv's"
   ]
  },
  {
   "cell_type": "code",
   "execution_count": 4,
   "metadata": {
    "nbpresent": {
     "id": "39fe80b5-7223-4979-a88c-65127f65533f"
    }
   },
   "outputs": [],
   "source": [
    "from Utility import makeCSVs\n",
    "makeCSVs()"
   ]
  },
  {
   "cell_type": "markdown",
   "metadata": {
    "nbpresent": {
     "id": "13957631-7fc6-43a5-9b60-9b9728fcb78c"
    }
   },
   "source": [
    "## Import Data from generated CSVs:-"
   ]
  },
  {
   "cell_type": "markdown",
   "metadata": {
    "nbpresent": {
     "id": "5fcbbe4c-733d-4a5d-9979-2ce9fd2090f8"
    }
   },
   "source": [
    "### Casts:-"
   ]
  },
  {
   "cell_type": "code",
   "execution_count": 5,
   "metadata": {
    "nbpresent": {
     "id": "1c754c8a-1379-49e3-9050-6d1a11dbf093"
    }
   },
   "outputs": [
    {
     "data": {
      "text/html": [
       "<div>\n",
       "<style scoped>\n",
       "    .dataframe tbody tr th:only-of-type {\n",
       "        vertical-align: middle;\n",
       "    }\n",
       "\n",
       "    .dataframe tbody tr th {\n",
       "        vertical-align: top;\n",
       "    }\n",
       "\n",
       "    .dataframe thead th {\n",
       "        text-align: right;\n",
       "    }\n",
       "</style>\n",
       "<table border=\"1\" class=\"dataframe\">\n",
       "  <thead>\n",
       "    <tr style=\"text-align: right;\">\n",
       "      <th></th>\n",
       "      <th>directorCode</th>\n",
       "      <th>directorName</th>\n",
       "      <th>actor</th>\n",
       "      <th>type</th>\n",
       "      <th>role</th>\n",
       "      <th>awards</th>\n",
       "      <th>pic</th>\n",
       "      <th>notes</th>\n",
       "    </tr>\n",
       "  </thead>\n",
       "  <tbody>\n",
       "    <tr>\n",
       "      <th>0</th>\n",
       "      <td>AA13</td>\n",
       "      <td>T:Pygmalion</td>\n",
       "      <td>Leslie Howard</td>\n",
       "      <td>\\Sci</td>\n",
       "      <td>R:smug professor \"Higgins\"</td>\n",
       "      <td>AAN</td>\n",
       "      <td>NaN</td>\n",
       "      <td>NaN</td>\n",
       "    </tr>\n",
       "    <tr>\n",
       "      <th>1</th>\n",
       "      <td>AA13</td>\n",
       "      <td>T:Pygmalion</td>\n",
       "      <td>Wendy Hiller</td>\n",
       "      <td>\\Inn</td>\n",
       "      <td>R:flower girl \"Eliza\"</td>\n",
       "      <td>AAN</td>\n",
       "      <td>NaN</td>\n",
       "      <td>NaN</td>\n",
       "    </tr>\n",
       "    <tr>\n",
       "      <th>2</th>\n",
       "      <td>AA13</td>\n",
       "      <td>T:Pygmalion</td>\n",
       "      <td>Wilfrid Lawson</td>\n",
       "      <td>\\Und</td>\n",
       "      <td>R:friend \"Dolittle\"</td>\n",
       "      <td>NaN</td>\n",
       "      <td>NaN</td>\n",
       "      <td>NaN</td>\n",
       "    </tr>\n",
       "    <tr>\n",
       "      <th>3</th>\n",
       "      <td>AA13</td>\n",
       "      <td>T:Pygmalion</td>\n",
       "      <td>Scott Sunderland</td>\n",
       "      <td>\\Und</td>\n",
       "      <td>R:betting Colonel \"Pickering\"</td>\n",
       "      <td>NaN</td>\n",
       "      <td>NaN</td>\n",
       "      <td>NaN</td>\n",
       "    </tr>\n",
       "    <tr>\n",
       "      <th>4</th>\n",
       "      <td>AA13</td>\n",
       "      <td>T:Pygmalion</td>\n",
       "      <td>Marie Lohr</td>\n",
       "      <td>\\Und</td>\n",
       "      <td>R:wife \"Mrs.Higgins\"</td>\n",
       "      <td>NaN</td>\n",
       "      <td>NaN</td>\n",
       "      <td>NaN</td>\n",
       "    </tr>\n",
       "  </tbody>\n",
       "</table>\n",
       "</div>"
      ],
      "text/plain": [
       "  directorCode directorName             actor  type  \\\n",
       "0         AA13  T:Pygmalion     Leslie Howard  \\Sci   \n",
       "1         AA13  T:Pygmalion      Wendy Hiller  \\Inn   \n",
       "2         AA13  T:Pygmalion    Wilfrid Lawson  \\Und   \n",
       "3         AA13  T:Pygmalion  Scott Sunderland  \\Und   \n",
       "4         AA13  T:Pygmalion        Marie Lohr  \\Und   \n",
       "\n",
       "                            role awards  pic notes  \n",
       "0     R:smug professor \"Higgins\"    AAN  NaN   NaN  \n",
       "1          R:flower girl \"Eliza\"    AAN  NaN   NaN  \n",
       "2            R:friend \"Dolittle\"    NaN  NaN   NaN  \n",
       "3  R:betting Colonel \"Pickering\"    NaN  NaN   NaN  \n",
       "4           R:wife \"Mrs.Higgins\"    NaN  NaN   NaN  "
      ]
     },
     "execution_count": 5,
     "metadata": {},
     "output_type": "execute_result"
    }
   ],
   "source": [
    "cast = pd.read_csv('casts.csv',names=['directorCode','directorName','actor','type','role','awards','pic','notes'],error_bad_lines=False,skiprows=22)\n",
    "cast.head()"
   ]
  },
  {
   "cell_type": "code",
   "execution_count": 6,
   "metadata": {
    "nbpresent": {
     "id": "3eaaab34-178a-47ec-b16c-77c8d546ce80"
    }
   },
   "outputs": [
    {
     "data": {
      "text/html": [
       "<div>\n",
       "<style scoped>\n",
       "    .dataframe tbody tr th:only-of-type {\n",
       "        vertical-align: middle;\n",
       "    }\n",
       "\n",
       "    .dataframe tbody tr th {\n",
       "        vertical-align: top;\n",
       "    }\n",
       "\n",
       "    .dataframe thead th {\n",
       "        text-align: right;\n",
       "    }\n",
       "</style>\n",
       "<table border=\"1\" class=\"dataframe\">\n",
       "  <thead>\n",
       "    <tr style=\"text-align: right;\">\n",
       "      <th></th>\n",
       "      <th>directorCode</th>\n",
       "      <th>directorName</th>\n",
       "      <th>actor</th>\n",
       "      <th>type</th>\n",
       "      <th>role</th>\n",
       "      <th>awards</th>\n",
       "      <th>pic</th>\n",
       "      <th>notes</th>\n",
       "    </tr>\n",
       "  </thead>\n",
       "  <tbody>\n",
       "    <tr>\n",
       "      <th>0</th>\n",
       "      <td>AA13</td>\n",
       "      <td>Pygmalion</td>\n",
       "      <td>Leslie Howard</td>\n",
       "      <td>\\Sci</td>\n",
       "      <td>R:smug professor \"Higgins\"</td>\n",
       "      <td>AAN</td>\n",
       "      <td>NaN</td>\n",
       "      <td>NaN</td>\n",
       "    </tr>\n",
       "    <tr>\n",
       "      <th>1</th>\n",
       "      <td>AA13</td>\n",
       "      <td>Pygmalion</td>\n",
       "      <td>Wendy Hiller</td>\n",
       "      <td>\\Inn</td>\n",
       "      <td>R:flower girl \"Eliza\"</td>\n",
       "      <td>AAN</td>\n",
       "      <td>NaN</td>\n",
       "      <td>NaN</td>\n",
       "    </tr>\n",
       "    <tr>\n",
       "      <th>2</th>\n",
       "      <td>AA13</td>\n",
       "      <td>Pygmalion</td>\n",
       "      <td>Wilfrid Lawson</td>\n",
       "      <td>\\Und</td>\n",
       "      <td>R:friend \"Dolittle\"</td>\n",
       "      <td>NaN</td>\n",
       "      <td>NaN</td>\n",
       "      <td>NaN</td>\n",
       "    </tr>\n",
       "    <tr>\n",
       "      <th>3</th>\n",
       "      <td>AA13</td>\n",
       "      <td>Pygmalion</td>\n",
       "      <td>Scott Sunderland</td>\n",
       "      <td>\\Und</td>\n",
       "      <td>R:betting Colonel \"Pickering\"</td>\n",
       "      <td>NaN</td>\n",
       "      <td>NaN</td>\n",
       "      <td>NaN</td>\n",
       "    </tr>\n",
       "    <tr>\n",
       "      <th>4</th>\n",
       "      <td>AA13</td>\n",
       "      <td>Pygmalion</td>\n",
       "      <td>Marie Lohr</td>\n",
       "      <td>\\Und</td>\n",
       "      <td>R:wife \"Mrs.Higgins\"</td>\n",
       "      <td>NaN</td>\n",
       "      <td>NaN</td>\n",
       "      <td>NaN</td>\n",
       "    </tr>\n",
       "  </tbody>\n",
       "</table>\n",
       "</div>"
      ],
      "text/plain": [
       "  directorCode directorName             actor  type  \\\n",
       "0         AA13    Pygmalion     Leslie Howard  \\Sci   \n",
       "1         AA13    Pygmalion      Wendy Hiller  \\Inn   \n",
       "2         AA13    Pygmalion    Wilfrid Lawson  \\Und   \n",
       "3         AA13    Pygmalion  Scott Sunderland  \\Und   \n",
       "4         AA13    Pygmalion        Marie Lohr  \\Und   \n",
       "\n",
       "                            role awards  pic notes  \n",
       "0     R:smug professor \"Higgins\"    AAN  NaN   NaN  \n",
       "1          R:flower girl \"Eliza\"    AAN  NaN   NaN  \n",
       "2            R:friend \"Dolittle\"    NaN  NaN   NaN  \n",
       "3  R:betting Colonel \"Pickering\"    NaN  NaN   NaN  \n",
       "4           R:wife \"Mrs.Higgins\"    NaN  NaN   NaN  "
      ]
     },
     "execution_count": 6,
     "metadata": {},
     "output_type": "execute_result"
    }
   ],
   "source": [
    "d = []\n",
    "for i in cast['directorName']:\n",
    "    if type(i)==str and i[:2] == 'T:':\n",
    "        d.append(i[2:])\n",
    "    else:\n",
    "        d.append(i)\n",
    "cast['directorName']= d\n",
    "cast.head()"
   ]
  },
  {
   "cell_type": "markdown",
   "metadata": {
    "nbpresent": {
     "id": "8f0b6d44-160e-4b36-90e4-4e3825e513ec"
    }
   },
   "source": [
    "### Award:-"
   ]
  },
  {
   "cell_type": "code",
   "execution_count": 7,
   "metadata": {
    "nbpresent": {
     "id": "df47049d-2c1d-4959-9946-84931affd377"
    },
    "scrolled": true
   },
   "outputs": [
    {
     "data": {
      "text/html": [
       "<div>\n",
       "<style scoped>\n",
       "    .dataframe tbody tr th:only-of-type {\n",
       "        vertical-align: middle;\n",
       "    }\n",
       "\n",
       "    .dataframe tbody tr th {\n",
       "        vertical-align: top;\n",
       "    }\n",
       "\n",
       "    .dataframe thead th {\n",
       "        text-align: right;\n",
       "    }\n",
       "</style>\n",
       "<table border=\"1\" class=\"dataframe\">\n",
       "  <thead>\n",
       "    <tr style=\"text-align: right;\">\n",
       "      <th></th>\n",
       "      <th>award</th>\n",
       "      <th>organization</th>\n",
       "      <th>country</th>\n",
       "      <th>colloquial</th>\n",
       "      <th>year</th>\n",
       "      <th>notes</th>\n",
       "    </tr>\n",
       "  </thead>\n",
       "  <tbody>\n",
       "    <tr>\n",
       "      <th>0</th>\n",
       "      <td>AA</td>\n",
       "      <td>Hollywood Academy of Motion Picture Arts and S...</td>\n",
       "      <td>USA</td>\n",
       "      <td>Oscar</td>\n",
       "      <td>NaN</td>\n",
       "      <td>NaN</td>\n",
       "    </tr>\n",
       "    <tr>\n",
       "      <th>1</th>\n",
       "      <td>AAN</td>\n",
       "      <td>Hollywood Academy of Motion Picture Arts and S...</td>\n",
       "      <td>USA</td>\n",
       "      <td>Oscar nomination</td>\n",
       "      <td>NaN</td>\n",
       "      <td>NaN</td>\n",
       "    </tr>\n",
       "    <tr>\n",
       "      <th>2</th>\n",
       "      <td>AFI Lifetime</td>\n",
       "      <td>American Film Institute</td>\n",
       "      <td>USA</td>\n",
       "      <td>annual awards since 1973</td>\n",
       "      <td>NaN</td>\n",
       "      <td>NaN</td>\n",
       "    </tr>\n",
       "    <tr>\n",
       "      <th>3</th>\n",
       "      <td>AFI77</td>\n",
       "      <td>American Film Institute</td>\n",
       "      <td>USA</td>\n",
       "      <td>Best movies poll 1977</td>\n",
       "      <td>NaN</td>\n",
       "      <td>NaN</td>\n",
       "    </tr>\n",
       "    <tr>\n",
       "      <th>4</th>\n",
       "      <td>Baer</td>\n",
       "      <td>Berlinale</td>\n",
       "      <td>F.R.Germany</td>\n",
       "      <td>Berliner Baer(-Gold</td>\n",
       "      <td>Silver</td>\n",
       "      <td>Bronze)</td>\n",
       "    </tr>\n",
       "  </tbody>\n",
       "</table>\n",
       "</div>"
      ],
      "text/plain": [
       "          award                                       organization  \\\n",
       "0            AA  Hollywood Academy of Motion Picture Arts and S...   \n",
       "1           AAN  Hollywood Academy of Motion Picture Arts and S...   \n",
       "2  AFI Lifetime                            American Film Institute   \n",
       "3         AFI77                            American Film Institute   \n",
       "4          Baer                                          Berlinale   \n",
       "\n",
       "       country                colloquial    year    notes  \n",
       "0          USA                     Oscar     NaN      NaN  \n",
       "1          USA          Oscar nomination     NaN      NaN  \n",
       "2          USA  annual awards since 1973     NaN      NaN  \n",
       "3          USA     Best movies poll 1977     NaN      NaN  \n",
       "4  F.R.Germany       Berliner Baer(-Gold  Silver  Bronze)  "
      ]
     },
     "execution_count": 7,
     "metadata": {},
     "output_type": "execute_result"
    }
   ],
   "source": [
    "awtype = pd.read_csv('awtypes.csv',names=['award','organization','country','colloquial','year','notes'],error_bad_lines=True)\n",
    "awtype.head()"
   ]
  },
  {
   "cell_type": "markdown",
   "metadata": {
    "nbpresent": {
     "id": "c1c276db-80c0-4d86-871e-f68b595ba5c6"
    }
   },
   "source": [
    "### Actors:-"
   ]
  },
  {
   "cell_type": "code",
   "execution_count": 8,
   "metadata": {
    "nbpresent": {
     "id": "57a85f77-763e-4dd7-8c6a-c3c999969f13"
    }
   },
   "outputs": [
    {
     "data": {
      "text/html": [
       "<div>\n",
       "<style scoped>\n",
       "    .dataframe tbody tr th:only-of-type {\n",
       "        vertical-align: middle;\n",
       "    }\n",
       "\n",
       "    .dataframe tbody tr th {\n",
       "        vertical-align: top;\n",
       "    }\n",
       "\n",
       "    .dataframe thead th {\n",
       "        text-align: right;\n",
       "    }\n",
       "</style>\n",
       "<table border=\"1\" class=\"dataframe\">\n",
       "  <thead>\n",
       "    <tr style=\"text-align: right;\">\n",
       "      <th></th>\n",
       "      <th>stage</th>\n",
       "      <th>dow</th>\n",
       "      <th>birth</th>\n",
       "      <th>giv</th>\n",
       "      <th>gen</th>\n",
       "      <th>dob</th>\n",
       "      <th>dod</th>\n",
       "      <th>type</th>\n",
       "      <th>orig</th>\n",
       "      <th>pict</th>\n",
       "      <th>notes</th>\n",
       "    </tr>\n",
       "  </thead>\n",
       "  <tbody>\n",
       "    <tr>\n",
       "      <th>0</th>\n",
       "      <td>Willie Aames</td>\n",
       "      <td>NaN</td>\n",
       "      <td>Aames</td>\n",
       "      <td>William</td>\n",
       "      <td>M</td>\n",
       "      <td>1960</td>\n",
       "      <td>199x</td>\n",
       "      <td>RU:</td>\n",
       "      <td>\\Am</td>\n",
       "      <td>NaN</td>\n",
       "      <td>NaN</td>\n",
       "    </tr>\n",
       "    <tr>\n",
       "      <th>1</th>\n",
       "      <td>Bud Abbott</td>\n",
       "      <td>1939-1956</td>\n",
       "      <td>Abbott</td>\n",
       "      <td>William</td>\n",
       "      <td>M</td>\n",
       "      <td>1895</td>\n",
       "      <td>1974</td>\n",
       "      <td>R:straight</td>\n",
       "      <td>comedian</td>\n",
       "      <td>\\Am</td>\n",
       "      <td>NaN</td>\n",
       "    </tr>\n",
       "    <tr>\n",
       "      <th>2</th>\n",
       "      <td>Diahnne Abbott</td>\n",
       "      <td>1976-1982</td>\n",
       "      <td>NaN</td>\n",
       "      <td>NaN</td>\n",
       "      <td>F</td>\n",
       "      <td>[1][23]</td>\n",
       "      <td>199x</td>\n",
       "      <td>R:sexy</td>\n",
       "      <td>\\Am</td>\n",
       "      <td>NaN</td>\n",
       "      <td>Cit(2) Mt(Robert deNiro;)</td>\n",
       "    </tr>\n",
       "    <tr>\n",
       "      <th>3</th>\n",
       "      <td>George Abbott</td>\n",
       "      <td>1928-1958</td>\n",
       "      <td>Abbott</td>\n",
       "      <td>George</td>\n",
       "      <td>M</td>\n",
       "      <td>1887</td>\n",
       "      <td>199x</td>\n",
       "      <td>R:playwright</td>\n",
       "      <td>producer</td>\n",
       "      <td>\\Am</td>\n",
       "      <td>NaN</td>\n",
       "    </tr>\n",
       "    <tr>\n",
       "      <th>4</th>\n",
       "      <td>John Abbott</td>\n",
       "      <td>1937-1975</td>\n",
       "      <td>Abbott</td>\n",
       "      <td>John</td>\n",
       "      <td>M</td>\n",
       "      <td>1905</td>\n",
       "      <td>199x</td>\n",
       "      <td>R:staring eyes</td>\n",
       "      <td>eccentric parts</td>\n",
       "      <td>\\Br</td>\n",
       "      <td>NaN</td>\n",
       "    </tr>\n",
       "  </tbody>\n",
       "</table>\n",
       "</div>"
      ],
      "text/plain": [
       "            stage        dow   birth      giv gen      dob   dod  \\\n",
       "0    Willie Aames        NaN   Aames  William   M     1960  199x   \n",
       "1      Bud Abbott  1939-1956  Abbott  William   M     1895  1974   \n",
       "2  Diahnne Abbott  1976-1982     NaN      NaN   F  [1][23]  199x   \n",
       "3   George Abbott  1928-1958  Abbott   George   M     1887  199x   \n",
       "4     John Abbott  1937-1975  Abbott     John   M     1905  199x   \n",
       "\n",
       "             type              orig pict                      notes  \n",
       "0             RU:               \\Am  NaN                        NaN  \n",
       "1      R:straight          comedian  \\Am                        NaN  \n",
       "2          R:sexy               \\Am  NaN  Cit(2) Mt(Robert deNiro;)  \n",
       "3    R:playwright          producer  \\Am                        NaN  \n",
       "4  R:staring eyes   eccentric parts  \\Br                        NaN  "
      ]
     },
     "execution_count": 8,
     "metadata": {},
     "output_type": "execute_result"
    }
   ],
   "source": [
    "actor = pd.read_csv('actors.csv',names=['stage','dow','birth','giv','gen','dob','dod','type','orig','pict','notes'],error_bad_lines=True)\n",
    "actor.head()"
   ]
  },
  {
   "cell_type": "markdown",
   "metadata": {
    "nbpresent": {
     "id": "a0ce34b0-2327-4b6e-a13c-35fbd58a9301"
    }
   },
   "source": [
    "### Main:-"
   ]
  },
  {
   "cell_type": "code",
   "execution_count": 9,
   "metadata": {
    "nbpresent": {
     "id": "6dbe628c-e37b-4d55-b579-c0195d7b4005"
    }
   },
   "outputs": [
    {
     "data": {
      "text/html": [
       "<div>\n",
       "<style scoped>\n",
       "    .dataframe tbody tr th:only-of-type {\n",
       "        vertical-align: middle;\n",
       "    }\n",
       "\n",
       "    .dataframe tbody tr th {\n",
       "        vertical-align: top;\n",
       "    }\n",
       "\n",
       "    .dataframe thead th {\n",
       "        text-align: right;\n",
       "    }\n",
       "</style>\n",
       "<table border=\"1\" class=\"dataframe\">\n",
       "  <thead>\n",
       "    <tr style=\"text-align: right;\">\n",
       "      <th></th>\n",
       "      <th>H</th>\n",
       "      <th>title</th>\n",
       "      <th>year</th>\n",
       "      <th>director</th>\n",
       "      <th>prds</th>\n",
       "      <th>prds1</th>\n",
       "      <th>st</th>\n",
       "      <th>prc</th>\n",
       "      <th>prc1</th>\n",
       "      <th>cat</th>\n",
       "      <th>aw</th>\n",
       "      <th>locale</th>\n",
       "      <th>Nt</th>\n",
       "    </tr>\n",
       "  </thead>\n",
       "  <tbody>\n",
       "    <tr>\n",
       "      <th>0</th>\n",
       "      <td>H1</td>\n",
       "      <td>T:Always Tell Your Wife</td>\n",
       "      <td>1922</td>\n",
       "      <td>D:Se.Hicks</td>\n",
       "      <td>P:Lasky</td>\n",
       "      <td>St:Famous</td>\n",
       "      <td>SD:*</td>\n",
       "      <td>sbw</td>\n",
       "      <td>Dram</td>\n",
       "      <td>aw</td>\n",
       "      <td>lc</td>\n",
       "      <td>CoD(Hitchcock)</td>\n",
       "      <td>NaN</td>\n",
       "    </tr>\n",
       "    <tr>\n",
       "      <th>1</th>\n",
       "      <td>H2</td>\n",
       "      <td>T:Number Thirteen</td>\n",
       "      <td>1922</td>\n",
       "      <td>D:Hitchcock</td>\n",
       "      <td>P:Hitchcock</td>\n",
       "      <td>St:Islington</td>\n",
       "      <td>SD:Famous</td>\n",
       "      <td>sbw</td>\n",
       "      <td>NaN</td>\n",
       "      <td>NaN</td>\n",
       "      <td>NaN</td>\n",
       "      <td>Nt(unfinished)</td>\n",
       "      <td>NaN</td>\n",
       "    </tr>\n",
       "    <tr>\n",
       "      <th>2</th>\n",
       "      <td>H3</td>\n",
       "      <td>T:Woman to Woman</td>\n",
       "      <td>1922</td>\n",
       "      <td>D:Hitchcock</td>\n",
       "      <td>P:Balcon</td>\n",
       "      <td>St:B-S-F</td>\n",
       "      <td>SD:Wardour</td>\n",
       "      <td>sbw</td>\n",
       "      <td>Dram</td>\n",
       "      <td>NaN</td>\n",
       "      <td>England</td>\n",
       "      <td>CoD(Cutts) Er(same as GCt27</td>\n",
       "      <td>1926?)</td>\n",
       "    </tr>\n",
       "    <tr>\n",
       "      <th>3</th>\n",
       "      <td>H4</td>\n",
       "      <td>T:The Passionate Adventure</td>\n",
       "      <td>1924</td>\n",
       "      <td>D:Hitchcock</td>\n",
       "      <td>P:Balcon</td>\n",
       "      <td>St:Gainsborough</td>\n",
       "      <td>SD:GaumontD</td>\n",
       "      <td>sbw</td>\n",
       "      <td>NaN</td>\n",
       "      <td>NaN</td>\n",
       "      <td>NaN</td>\n",
       "      <td>CoD(Cutts)</td>\n",
       "      <td>NaN</td>\n",
       "    </tr>\n",
       "    <tr>\n",
       "      <th>4</th>\n",
       "      <td>H5</td>\n",
       "      <td>T:The Blackguard</td>\n",
       "      <td>1925</td>\n",
       "      <td>D:Hitchcock</td>\n",
       "      <td>P:Balcon</td>\n",
       "      <td>St:UFA</td>\n",
       "      <td>SD:Wardour</td>\n",
       "      <td>sbw</td>\n",
       "      <td>NaN</td>\n",
       "      <td>NaN</td>\n",
       "      <td>NaN</td>\n",
       "      <td>CoD(Cutts)</td>\n",
       "      <td>NaN</td>\n",
       "    </tr>\n",
       "  </tbody>\n",
       "</table>\n",
       "</div>"
      ],
      "text/plain": [
       "    H                       title  year     director         prds  \\\n",
       "0  H1     T:Always Tell Your Wife  1922   D:Se.Hicks      P:Lasky   \n",
       "1  H2           T:Number Thirteen  1922  D:Hitchcock  P:Hitchcock   \n",
       "2  H3            T:Woman to Woman  1922  D:Hitchcock     P:Balcon   \n",
       "3  H4  T:The Passionate Adventure  1924  D:Hitchcock     P:Balcon   \n",
       "4  H5            T:The Blackguard  1925  D:Hitchcock     P:Balcon   \n",
       "\n",
       "             prds1            st  prc  prc1  cat       aw  \\\n",
       "0        St:Famous          SD:*  sbw  Dram   aw       lc   \n",
       "1     St:Islington     SD:Famous  sbw   NaN  NaN      NaN   \n",
       "2         St:B-S-F    SD:Wardour  sbw  Dram  NaN  England   \n",
       "3  St:Gainsborough   SD:GaumontD  sbw   NaN  NaN      NaN   \n",
       "4           St:UFA    SD:Wardour  sbw   NaN  NaN      NaN   \n",
       "\n",
       "                        locale       Nt  \n",
       "0               CoD(Hitchcock)      NaN  \n",
       "1               Nt(unfinished)      NaN  \n",
       "2  CoD(Cutts) Er(same as GCt27   1926?)  \n",
       "3                   CoD(Cutts)      NaN  \n",
       "4                   CoD(Cutts)      NaN  "
      ]
     },
     "execution_count": 9,
     "metadata": {},
     "output_type": "execute_result"
    }
   ],
   "source": [
    "main = pd.read_csv('main.csv',names=['H','title','year','director','prds','prds1','st','prc','prc1','cat','aw','locale','Nt'],error_bad_lines=True)\n",
    "main.head()"
   ]
  },
  {
   "cell_type": "code",
   "execution_count": 10,
   "metadata": {
    "nbpresent": {
     "id": "3be8c2ae-b420-4d42-b3ff-92a58f9e38bc"
    }
   },
   "outputs": [],
   "source": [
    "d = []\n",
    "for i in main['title']:\n",
    "    if type(i)==str and i[:2] == 'T:':\n",
    "        d.append(i[2:])\n",
    "    else:\n",
    "        d.append(i)\n",
    "main['title']= d\n",
    "\n",
    "#######################################\n",
    "\n",
    "d = []\n",
    "for i in main['director']:\n",
    "    if type(i)==str and i[:2] == 'D:':\n",
    "        d.append(i[2:])\n",
    "    else:\n",
    "        d.append(i)\n",
    "main['director']= d\n",
    "\n",
    "#######################################\n",
    "\n",
    "d = []\n",
    "for i in main['prds']:\n",
    "    if type(i)==str and i[:2] == 'P:':\n",
    "        d.append(i[2:])\n",
    "    else:\n",
    "        d.append(i)\n",
    "main['prds']= d\n",
    "\n",
    "#######################################\n",
    "\n",
    "d = []\n",
    "for i in main['prds1']:\n",
    "    if type(i)==str and i[:3] == 'St:':\n",
    "        d.append(i[3:])\n",
    "    else:\n",
    "        d.append(i)\n",
    "main['prds1']= d\n",
    "\n",
    "#######################################\n",
    "\n",
    "d = []\n",
    "for i in main['st']:\n",
    "    if type(i)==str and i[:4] == ' SD:':\n",
    "        d.append(i[4:])\n",
    "    else:\n",
    "        d.append(i)\n",
    "main['st']= d"
   ]
  },
  {
   "cell_type": "code",
   "execution_count": 11,
   "metadata": {
    "nbpresent": {
     "id": "6115c56c-24ef-409a-b797-03cdb7a947fe"
    }
   },
   "outputs": [
    {
     "data": {
      "text/html": [
       "<div>\n",
       "<style scoped>\n",
       "    .dataframe tbody tr th:only-of-type {\n",
       "        vertical-align: middle;\n",
       "    }\n",
       "\n",
       "    .dataframe tbody tr th {\n",
       "        vertical-align: top;\n",
       "    }\n",
       "\n",
       "    .dataframe thead th {\n",
       "        text-align: right;\n",
       "    }\n",
       "</style>\n",
       "<table border=\"1\" class=\"dataframe\">\n",
       "  <thead>\n",
       "    <tr style=\"text-align: right;\">\n",
       "      <th></th>\n",
       "      <th>H</th>\n",
       "      <th>title</th>\n",
       "      <th>year</th>\n",
       "      <th>director</th>\n",
       "      <th>prds</th>\n",
       "      <th>prds1</th>\n",
       "      <th>st</th>\n",
       "      <th>prc</th>\n",
       "      <th>prc1</th>\n",
       "      <th>cat</th>\n",
       "      <th>aw</th>\n",
       "      <th>locale</th>\n",
       "      <th>Nt</th>\n",
       "    </tr>\n",
       "  </thead>\n",
       "  <tbody>\n",
       "    <tr>\n",
       "      <th>0</th>\n",
       "      <td>H1</td>\n",
       "      <td>Always Tell Your Wife</td>\n",
       "      <td>1922</td>\n",
       "      <td>Se.Hicks</td>\n",
       "      <td>Lasky</td>\n",
       "      <td>Famous</td>\n",
       "      <td>*</td>\n",
       "      <td>sbw</td>\n",
       "      <td>Dram</td>\n",
       "      <td>aw</td>\n",
       "      <td>lc</td>\n",
       "      <td>CoD(Hitchcock)</td>\n",
       "      <td>NaN</td>\n",
       "    </tr>\n",
       "    <tr>\n",
       "      <th>1</th>\n",
       "      <td>H2</td>\n",
       "      <td>Number Thirteen</td>\n",
       "      <td>1922</td>\n",
       "      <td>Hitchcock</td>\n",
       "      <td>Hitchcock</td>\n",
       "      <td>Islington</td>\n",
       "      <td>Famous</td>\n",
       "      <td>sbw</td>\n",
       "      <td>NaN</td>\n",
       "      <td>NaN</td>\n",
       "      <td>NaN</td>\n",
       "      <td>Nt(unfinished)</td>\n",
       "      <td>NaN</td>\n",
       "    </tr>\n",
       "    <tr>\n",
       "      <th>2</th>\n",
       "      <td>H3</td>\n",
       "      <td>Woman to Woman</td>\n",
       "      <td>1922</td>\n",
       "      <td>Hitchcock</td>\n",
       "      <td>Balcon</td>\n",
       "      <td>B-S-F</td>\n",
       "      <td>Wardour</td>\n",
       "      <td>sbw</td>\n",
       "      <td>Dram</td>\n",
       "      <td>NaN</td>\n",
       "      <td>England</td>\n",
       "      <td>CoD(Cutts) Er(same as GCt27</td>\n",
       "      <td>1926?)</td>\n",
       "    </tr>\n",
       "    <tr>\n",
       "      <th>3</th>\n",
       "      <td>H4</td>\n",
       "      <td>The Passionate Adventure</td>\n",
       "      <td>1924</td>\n",
       "      <td>Hitchcock</td>\n",
       "      <td>Balcon</td>\n",
       "      <td>Gainsborough</td>\n",
       "      <td>GaumontD</td>\n",
       "      <td>sbw</td>\n",
       "      <td>NaN</td>\n",
       "      <td>NaN</td>\n",
       "      <td>NaN</td>\n",
       "      <td>CoD(Cutts)</td>\n",
       "      <td>NaN</td>\n",
       "    </tr>\n",
       "    <tr>\n",
       "      <th>4</th>\n",
       "      <td>H5</td>\n",
       "      <td>The Blackguard</td>\n",
       "      <td>1925</td>\n",
       "      <td>Hitchcock</td>\n",
       "      <td>Balcon</td>\n",
       "      <td>UFA</td>\n",
       "      <td>Wardour</td>\n",
       "      <td>sbw</td>\n",
       "      <td>NaN</td>\n",
       "      <td>NaN</td>\n",
       "      <td>NaN</td>\n",
       "      <td>CoD(Cutts)</td>\n",
       "      <td>NaN</td>\n",
       "    </tr>\n",
       "  </tbody>\n",
       "</table>\n",
       "</div>"
      ],
      "text/plain": [
       "    H                     title  year   director       prds         prds1  \\\n",
       "0  H1     Always Tell Your Wife  1922   Se.Hicks      Lasky        Famous   \n",
       "1  H2           Number Thirteen  1922  Hitchcock  Hitchcock     Islington   \n",
       "2  H3            Woman to Woman  1922  Hitchcock     Balcon         B-S-F   \n",
       "3  H4  The Passionate Adventure  1924  Hitchcock     Balcon  Gainsborough   \n",
       "4  H5            The Blackguard  1925  Hitchcock     Balcon           UFA   \n",
       "\n",
       "         st  prc  prc1  cat       aw                       locale       Nt  \n",
       "0         *  sbw  Dram   aw       lc               CoD(Hitchcock)      NaN  \n",
       "1    Famous  sbw   NaN  NaN      NaN               Nt(unfinished)      NaN  \n",
       "2   Wardour  sbw  Dram  NaN  England  CoD(Cutts) Er(same as GCt27   1926?)  \n",
       "3  GaumontD  sbw   NaN  NaN      NaN                   CoD(Cutts)      NaN  \n",
       "4   Wardour  sbw   NaN  NaN      NaN                   CoD(Cutts)      NaN  "
      ]
     },
     "execution_count": 11,
     "metadata": {},
     "output_type": "execute_result"
    }
   ],
   "source": [
    "main.head()"
   ]
  },
  {
   "cell_type": "code",
   "execution_count": 12,
   "metadata": {
    "nbpresent": {
     "id": "5e013807-5fbf-49ca-8aae-864d12d9030d"
    },
    "scrolled": false
   },
   "outputs": [
    {
     "data": {
      "text/html": [
       "<div>\n",
       "<style scoped>\n",
       "    .dataframe tbody tr th:only-of-type {\n",
       "        vertical-align: middle;\n",
       "    }\n",
       "\n",
       "    .dataframe tbody tr th {\n",
       "        vertical-align: top;\n",
       "    }\n",
       "\n",
       "    .dataframe thead th {\n",
       "        text-align: right;\n",
       "    }\n",
       "</style>\n",
       "<table border=\"1\" class=\"dataframe\">\n",
       "  <thead>\n",
       "    <tr style=\"text-align: right;\">\n",
       "      <th></th>\n",
       "      <th>Rank</th>\n",
       "      <th>Title</th>\n",
       "      <th>Genre</th>\n",
       "      <th>Description</th>\n",
       "      <th>Director</th>\n",
       "      <th>Actors</th>\n",
       "      <th>Year</th>\n",
       "      <th>Runtime (Minutes)</th>\n",
       "      <th>Rating</th>\n",
       "      <th>Votes</th>\n",
       "      <th>Revenue (Millions)</th>\n",
       "      <th>Metascore</th>\n",
       "      <th>l_name</th>\n",
       "      <th>l_score</th>\n",
       "    </tr>\n",
       "  </thead>\n",
       "  <tbody>\n",
       "    <tr>\n",
       "      <th>0</th>\n",
       "      <td>1</td>\n",
       "      <td>Guardians of the Galaxy</td>\n",
       "      <td>Action,Adventure,Sci-Fi</td>\n",
       "      <td>A group of intergalactic criminals are forced ...</td>\n",
       "      <td>James Gunn</td>\n",
       "      <td>Chris Pratt, Vin Diesel, Bradley Cooper, Zoe S...</td>\n",
       "      <td>2014</td>\n",
       "      <td>121</td>\n",
       "      <td>8.1</td>\n",
       "      <td>757074.0</td>\n",
       "      <td>333.13</td>\n",
       "      <td>76.0</td>\n",
       "      <td>The Blackguard</td>\n",
       "      <td>86</td>\n",
       "    </tr>\n",
       "    <tr>\n",
       "      <th>1</th>\n",
       "      <td>2</td>\n",
       "      <td>Prometheus</td>\n",
       "      <td>Adventure,Mystery,Sci-Fi</td>\n",
       "      <td>Following clues to the origin of mankind, a te...</td>\n",
       "      <td>Ridley Scott</td>\n",
       "      <td>Noomi Rapace, Logan Marshall-Green, Michael Fa...</td>\n",
       "      <td>2012</td>\n",
       "      <td>124</td>\n",
       "      <td>7.0</td>\n",
       "      <td>485820.0</td>\n",
       "      <td>126.46</td>\n",
       "      <td>65.0</td>\n",
       "      <td></td>\n",
       "      <td>0</td>\n",
       "    </tr>\n",
       "    <tr>\n",
       "      <th>2</th>\n",
       "      <td>3</td>\n",
       "      <td>Split</td>\n",
       "      <td>Horror,Thriller</td>\n",
       "      <td>Three girls are kidnapped by a man with a diag...</td>\n",
       "      <td>M. Night Shyamalan</td>\n",
       "      <td>James McAvoy, Anya Taylor-Joy, Haley Lu Richar...</td>\n",
       "      <td>2016</td>\n",
       "      <td>117</td>\n",
       "      <td>7.3</td>\n",
       "      <td>157606.0</td>\n",
       "      <td>138.12</td>\n",
       "      <td>62.0</td>\n",
       "      <td>It</td>\n",
       "      <td>90</td>\n",
       "    </tr>\n",
       "    <tr>\n",
       "      <th>3</th>\n",
       "      <td>4</td>\n",
       "      <td>Sing</td>\n",
       "      <td>Animation,Comedy,Family</td>\n",
       "      <td>In a city of humanoid animals, a hustling thea...</td>\n",
       "      <td>Christophe Lourdelet</td>\n",
       "      <td>Matthew McConaughey,Reese Witherspoon, Seth Ma...</td>\n",
       "      <td>2016</td>\n",
       "      <td>108</td>\n",
       "      <td>7.2</td>\n",
       "      <td>60545.0</td>\n",
       "      <td>270.32</td>\n",
       "      <td>59.0</td>\n",
       "      <td>Sing</td>\n",
       "      <td>100</td>\n",
       "    </tr>\n",
       "    <tr>\n",
       "      <th>4</th>\n",
       "      <td>5</td>\n",
       "      <td>Suicide Squad</td>\n",
       "      <td>Action,Adventure,Fantasy</td>\n",
       "      <td>A secret government agency recruits some of th...</td>\n",
       "      <td>David Ayer</td>\n",
       "      <td>Will Smith, Jared Leto, Margot Robbie, Viola D...</td>\n",
       "      <td>2016</td>\n",
       "      <td>123</td>\n",
       "      <td>6.2</td>\n",
       "      <td>393727.0</td>\n",
       "      <td>325.02</td>\n",
       "      <td>40.0</td>\n",
       "      <td></td>\n",
       "      <td>0</td>\n",
       "    </tr>\n",
       "  </tbody>\n",
       "</table>\n",
       "</div>"
      ],
      "text/plain": [
       "   Rank                    Title                     Genre  \\\n",
       "0     1  Guardians of the Galaxy   Action,Adventure,Sci-Fi   \n",
       "1     2               Prometheus  Adventure,Mystery,Sci-Fi   \n",
       "2     3                    Split           Horror,Thriller   \n",
       "3     4                     Sing   Animation,Comedy,Family   \n",
       "4     5            Suicide Squad  Action,Adventure,Fantasy   \n",
       "\n",
       "                                         Description              Director  \\\n",
       "0  A group of intergalactic criminals are forced ...            James Gunn   \n",
       "1  Following clues to the origin of mankind, a te...          Ridley Scott   \n",
       "2  Three girls are kidnapped by a man with a diag...    M. Night Shyamalan   \n",
       "3  In a city of humanoid animals, a hustling thea...  Christophe Lourdelet   \n",
       "4  A secret government agency recruits some of th...            David Ayer   \n",
       "\n",
       "                                              Actors  Year  Runtime (Minutes)  \\\n",
       "0  Chris Pratt, Vin Diesel, Bradley Cooper, Zoe S...  2014                121   \n",
       "1  Noomi Rapace, Logan Marshall-Green, Michael Fa...  2012                124   \n",
       "2  James McAvoy, Anya Taylor-Joy, Haley Lu Richar...  2016                117   \n",
       "3  Matthew McConaughey,Reese Witherspoon, Seth Ma...  2016                108   \n",
       "4  Will Smith, Jared Leto, Margot Robbie, Viola D...  2016                123   \n",
       "\n",
       "   Rating     Votes  Revenue (Millions)  Metascore          l_name  l_score  \n",
       "0     8.1  757074.0              333.13       76.0  The Blackguard       86  \n",
       "1     7.0  485820.0              126.46       65.0                        0  \n",
       "2     7.3  157606.0              138.12       62.0              It       90  \n",
       "3     7.2   60545.0              270.32       59.0            Sing      100  \n",
       "4     6.2  393727.0              325.02       40.0                        0  "
      ]
     },
     "execution_count": 12,
     "metadata": {},
     "output_type": "execute_result"
    }
   ],
   "source": [
    "l_name,l_score = [],[]\n",
    "for i in db['Title']:\n",
    "    Name = ''\n",
    "    Score = 0\n",
    "    if i in main['title']:\n",
    "        Name=i\n",
    "        Score=100\n",
    "    else:\n",
    "        name,score,x = process.extractOne(i, main['title'])\n",
    "#        name,score,x = process.extractOne(i, main['title'],scorer=fuzz.token_sort_ratio)\n",
    "        if score >= 80:\n",
    "            Name=name\n",
    "            Score=score\n",
    "    if Name == '':\n",
    "        l_name.append('')\n",
    "        l_score.append(0)\n",
    "    else:\n",
    "        l_name.append(Name)\n",
    "        l_score.append(Score)\n",
    "db['l_name'],db['l_score'] = l_name,l_score\n",
    "db.head()"
   ]
  },
  {
   "cell_type": "code",
   "execution_count": 13,
   "metadata": {},
   "outputs": [
    {
     "data": {
      "text/html": [
       "<div>\n",
       "<style scoped>\n",
       "    .dataframe tbody tr th:only-of-type {\n",
       "        vertical-align: middle;\n",
       "    }\n",
       "\n",
       "    .dataframe tbody tr th {\n",
       "        vertical-align: top;\n",
       "    }\n",
       "\n",
       "    .dataframe thead th {\n",
       "        text-align: right;\n",
       "    }\n",
       "</style>\n",
       "<table border=\"1\" class=\"dataframe\">\n",
       "  <thead>\n",
       "    <tr style=\"text-align: right;\">\n",
       "      <th></th>\n",
       "      <th>Title</th>\n",
       "      <th>l_name</th>\n",
       "      <th>l_score</th>\n",
       "    </tr>\n",
       "  </thead>\n",
       "  <tbody>\n",
       "    <tr>\n",
       "      <th>0</th>\n",
       "      <td>Guardians of the Galaxy</td>\n",
       "      <td>The Blackguard</td>\n",
       "      <td>86</td>\n",
       "    </tr>\n",
       "    <tr>\n",
       "      <th>1</th>\n",
       "      <td>Prometheus</td>\n",
       "      <td></td>\n",
       "      <td>0</td>\n",
       "    </tr>\n",
       "    <tr>\n",
       "      <th>2</th>\n",
       "      <td>Split</td>\n",
       "      <td>It</td>\n",
       "      <td>90</td>\n",
       "    </tr>\n",
       "    <tr>\n",
       "      <th>3</th>\n",
       "      <td>Sing</td>\n",
       "      <td>Sing</td>\n",
       "      <td>100</td>\n",
       "    </tr>\n",
       "    <tr>\n",
       "      <th>4</th>\n",
       "      <td>Suicide Squad</td>\n",
       "      <td></td>\n",
       "      <td>0</td>\n",
       "    </tr>\n",
       "  </tbody>\n",
       "</table>\n",
       "</div>"
      ],
      "text/plain": [
       "                     Title          l_name  l_score\n",
       "0  Guardians of the Galaxy  The Blackguard       86\n",
       "1               Prometheus                        0\n",
       "2                    Split              It       90\n",
       "3                     Sing            Sing      100\n",
       "4            Suicide Squad                        0"
      ]
     },
     "execution_count": 13,
     "metadata": {},
     "output_type": "execute_result"
    }
   ],
   "source": [
    "l_dist = db[['Title','l_name','l_score']]\n",
    "l_dist.to_csv('lScore.csv')\n",
    "l_dist.head()"
   ]
  },
  {
   "cell_type": "code",
   "execution_count": 14,
   "metadata": {},
   "outputs": [
    {
     "data": {
      "text/html": [
       "<div>\n",
       "<style scoped>\n",
       "    .dataframe tbody tr th:only-of-type {\n",
       "        vertical-align: middle;\n",
       "    }\n",
       "\n",
       "    .dataframe tbody tr th {\n",
       "        vertical-align: top;\n",
       "    }\n",
       "\n",
       "    .dataframe thead th {\n",
       "        text-align: right;\n",
       "    }\n",
       "</style>\n",
       "<table border=\"1\" class=\"dataframe\">\n",
       "  <thead>\n",
       "    <tr style=\"text-align: right;\">\n",
       "      <th></th>\n",
       "      <th>Rank</th>\n",
       "      <th>Title</th>\n",
       "      <th>Genre</th>\n",
       "      <th>Description</th>\n",
       "      <th>Director</th>\n",
       "      <th>Actors</th>\n",
       "      <th>Year</th>\n",
       "      <th>Runtime (Minutes)</th>\n",
       "      <th>Rating</th>\n",
       "      <th>Votes</th>\n",
       "      <th>Revenue (Millions)</th>\n",
       "      <th>Metascore</th>\n",
       "      <th>l_name</th>\n",
       "      <th>l_score</th>\n",
       "      <th>award</th>\n",
       "    </tr>\n",
       "  </thead>\n",
       "  <tbody>\n",
       "    <tr>\n",
       "      <th>0</th>\n",
       "      <td>1</td>\n",
       "      <td>Guardians of the Galaxy</td>\n",
       "      <td>Action,Adventure,Sci-Fi</td>\n",
       "      <td>A group of intergalactic criminals are forced ...</td>\n",
       "      <td>James Gunn</td>\n",
       "      <td>Chris Pratt, Vin Diesel, Bradley Cooper, Zoe S...</td>\n",
       "      <td>2014</td>\n",
       "      <td>121</td>\n",
       "      <td>8.1</td>\n",
       "      <td>757074.0</td>\n",
       "      <td>333.13</td>\n",
       "      <td>76.0</td>\n",
       "      <td>The Blackguard</td>\n",
       "      <td>86</td>\n",
       "      <td>NaN</td>\n",
       "    </tr>\n",
       "    <tr>\n",
       "      <th>1</th>\n",
       "      <td>2</td>\n",
       "      <td>Prometheus</td>\n",
       "      <td>Adventure,Mystery,Sci-Fi</td>\n",
       "      <td>Following clues to the origin of mankind, a te...</td>\n",
       "      <td>Ridley Scott</td>\n",
       "      <td>Noomi Rapace, Logan Marshall-Green, Michael Fa...</td>\n",
       "      <td>2012</td>\n",
       "      <td>124</td>\n",
       "      <td>7.0</td>\n",
       "      <td>485820.0</td>\n",
       "      <td>126.46</td>\n",
       "      <td>65.0</td>\n",
       "      <td></td>\n",
       "      <td>0</td>\n",
       "      <td>NaN</td>\n",
       "    </tr>\n",
       "    <tr>\n",
       "      <th>2</th>\n",
       "      <td>3</td>\n",
       "      <td>Split</td>\n",
       "      <td>Horror,Thriller</td>\n",
       "      <td>Three girls are kidnapped by a man with a diag...</td>\n",
       "      <td>M. Night Shyamalan</td>\n",
       "      <td>James McAvoy, Anya Taylor-Joy, Haley Lu Richar...</td>\n",
       "      <td>2016</td>\n",
       "      <td>117</td>\n",
       "      <td>7.3</td>\n",
       "      <td>157606.0</td>\n",
       "      <td>138.12</td>\n",
       "      <td>62.0</td>\n",
       "      <td>It</td>\n",
       "      <td>90</td>\n",
       "      <td>NaN</td>\n",
       "    </tr>\n",
       "    <tr>\n",
       "      <th>3</th>\n",
       "      <td>4</td>\n",
       "      <td>Sing</td>\n",
       "      <td>Animation,Comedy,Family</td>\n",
       "      <td>In a city of humanoid animals, a hustling thea...</td>\n",
       "      <td>Christophe Lourdelet</td>\n",
       "      <td>Matthew McConaughey,Reese Witherspoon, Seth Ma...</td>\n",
       "      <td>2016</td>\n",
       "      <td>108</td>\n",
       "      <td>7.2</td>\n",
       "      <td>60545.0</td>\n",
       "      <td>270.32</td>\n",
       "      <td>59.0</td>\n",
       "      <td>Sing</td>\n",
       "      <td>100</td>\n",
       "      <td>H-</td>\n",
       "    </tr>\n",
       "    <tr>\n",
       "      <th>4</th>\n",
       "      <td>5</td>\n",
       "      <td>Suicide Squad</td>\n",
       "      <td>Action,Adventure,Fantasy</td>\n",
       "      <td>A secret government agency recruits some of th...</td>\n",
       "      <td>David Ayer</td>\n",
       "      <td>Will Smith, Jared Leto, Margot Robbie, Viola D...</td>\n",
       "      <td>2016</td>\n",
       "      <td>123</td>\n",
       "      <td>6.2</td>\n",
       "      <td>393727.0</td>\n",
       "      <td>325.02</td>\n",
       "      <td>40.0</td>\n",
       "      <td></td>\n",
       "      <td>0</td>\n",
       "      <td>NaN</td>\n",
       "    </tr>\n",
       "  </tbody>\n",
       "</table>\n",
       "</div>"
      ],
      "text/plain": [
       "   Rank                    Title                     Genre  \\\n",
       "0     1  Guardians of the Galaxy   Action,Adventure,Sci-Fi   \n",
       "1     2               Prometheus  Adventure,Mystery,Sci-Fi   \n",
       "2     3                    Split           Horror,Thriller   \n",
       "3     4                     Sing   Animation,Comedy,Family   \n",
       "4     5            Suicide Squad  Action,Adventure,Fantasy   \n",
       "\n",
       "                                         Description              Director  \\\n",
       "0  A group of intergalactic criminals are forced ...            James Gunn   \n",
       "1  Following clues to the origin of mankind, a te...          Ridley Scott   \n",
       "2  Three girls are kidnapped by a man with a diag...    M. Night Shyamalan   \n",
       "3  In a city of humanoid animals, a hustling thea...  Christophe Lourdelet   \n",
       "4  A secret government agency recruits some of th...            David Ayer   \n",
       "\n",
       "                                              Actors  Year  Runtime (Minutes)  \\\n",
       "0  Chris Pratt, Vin Diesel, Bradley Cooper, Zoe S...  2014                121   \n",
       "1  Noomi Rapace, Logan Marshall-Green, Michael Fa...  2012                124   \n",
       "2  James McAvoy, Anya Taylor-Joy, Haley Lu Richar...  2016                117   \n",
       "3  Matthew McConaughey,Reese Witherspoon, Seth Ma...  2016                108   \n",
       "4  Will Smith, Jared Leto, Margot Robbie, Viola D...  2016                123   \n",
       "\n",
       "   Rating     Votes  Revenue (Millions)  Metascore          l_name  l_score  \\\n",
       "0     8.1  757074.0              333.13       76.0  The Blackguard       86   \n",
       "1     7.0  485820.0              126.46       65.0                        0   \n",
       "2     7.3  157606.0              138.12       62.0              It       90   \n",
       "3     7.2   60545.0              270.32       59.0            Sing      100   \n",
       "4     6.2  393727.0              325.02       40.0                        0   \n",
       "\n",
       "  award  \n",
       "0   NaN  \n",
       "1   NaN  \n",
       "2   NaN  \n",
       "3    H-  \n",
       "4   NaN  "
      ]
     },
     "execution_count": 14,
     "metadata": {},
     "output_type": "execute_result"
    }
   ],
   "source": [
    "award = []\n",
    "for i in db['l_name']:\n",
    "    if type(i)==str and len(i)==0:\n",
    "        award.append('NaN')\n",
    "    else:\n",
    "        j = (main['title'] == i).idxmax()\n",
    "        award.append(main['aw'][j])\n",
    "db['award'] = award\n",
    "db.to_csv('merge.csv')\n",
    "db.head()"
   ]
  },
  {
   "cell_type": "code",
   "execution_count": 15,
   "metadata": {},
   "outputs": [
    {
     "name": "stdout",
     "output_type": "stream",
     "text": [
      "<class 'pandas.core.frame.DataFrame'>\n",
      "RangeIndex: 1000 entries, 0 to 999\n",
      "Data columns (total 15 columns):\n",
      "Rank                  1000 non-null int64\n",
      "Title                 1000 non-null object\n",
      "Genre                 1000 non-null object\n",
      "Description           1000 non-null object\n",
      "Director              1000 non-null object\n",
      "Actors                1000 non-null object\n",
      "Year                  1000 non-null object\n",
      "Runtime (Minutes)     1000 non-null int64\n",
      "Rating                1000 non-null float64\n",
      "Votes                 1000 non-null float64\n",
      "Revenue (Millions)    1000 non-null float64\n",
      "Metascore             1000 non-null float64\n",
      "l_name                999 non-null object\n",
      "l_score               1000 non-null int64\n",
      "award                 1000 non-null object\n",
      "dtypes: float64(4), int64(3), object(8)\n",
      "memory usage: 117.3+ KB\n"
     ]
    }
   ],
   "source": [
    "db['Revenue (Millions)'] = db['Revenue (Millions)'].fillna(db['Revenue (Millions)'].median())\n",
    "db['Metascore'] = db['Metascore'].fillna(db['Metascore'].median())\n",
    "db['award'] = db['award'].fillna(\"NaN\")\n",
    "db.info()"
   ]
  },
  {
   "cell_type": "markdown",
   "metadata": {},
   "source": [
    "# Encoding:-"
   ]
  },
  {
   "cell_type": "code",
   "execution_count": 16,
   "metadata": {},
   "outputs": [
    {
     "data": {
      "text/html": [
       "<div>\n",
       "<style scoped>\n",
       "    .dataframe tbody tr th:only-of-type {\n",
       "        vertical-align: middle;\n",
       "    }\n",
       "\n",
       "    .dataframe tbody tr th {\n",
       "        vertical-align: top;\n",
       "    }\n",
       "\n",
       "    .dataframe thead th {\n",
       "        text-align: right;\n",
       "    }\n",
       "</style>\n",
       "<table border=\"1\" class=\"dataframe\">\n",
       "  <thead>\n",
       "    <tr style=\"text-align: right;\">\n",
       "      <th></th>\n",
       "      <th>Genre</th>\n",
       "      <th>Director</th>\n",
       "      <th>Actors</th>\n",
       "      <th>Year</th>\n",
       "      <th>Runtime (Minutes)</th>\n",
       "      <th>Rating</th>\n",
       "      <th>Votes</th>\n",
       "      <th>Revenue (Millions)</th>\n",
       "      <th>Metascore</th>\n",
       "      <th>award</th>\n",
       "    </tr>\n",
       "  </thead>\n",
       "  <tbody>\n",
       "    <tr>\n",
       "      <th>0</th>\n",
       "      <td>Action,Adventure,Sci-Fi</td>\n",
       "      <td>James Gunn</td>\n",
       "      <td>Chris Pratt, Vin Diesel, Bradley Cooper, Zoe S...</td>\n",
       "      <td>2014</td>\n",
       "      <td>121</td>\n",
       "      <td>8.1</td>\n",
       "      <td>757074.0</td>\n",
       "      <td>333.13</td>\n",
       "      <td>76.0</td>\n",
       "      <td>NaN</td>\n",
       "    </tr>\n",
       "    <tr>\n",
       "      <th>1</th>\n",
       "      <td>Adventure,Mystery,Sci-Fi</td>\n",
       "      <td>Ridley Scott</td>\n",
       "      <td>Noomi Rapace, Logan Marshall-Green, Michael Fa...</td>\n",
       "      <td>2012</td>\n",
       "      <td>124</td>\n",
       "      <td>7.0</td>\n",
       "      <td>485820.0</td>\n",
       "      <td>126.46</td>\n",
       "      <td>65.0</td>\n",
       "      <td>NaN</td>\n",
       "    </tr>\n",
       "    <tr>\n",
       "      <th>2</th>\n",
       "      <td>Horror,Thriller</td>\n",
       "      <td>M. Night Shyamalan</td>\n",
       "      <td>James McAvoy, Anya Taylor-Joy, Haley Lu Richar...</td>\n",
       "      <td>2016</td>\n",
       "      <td>117</td>\n",
       "      <td>7.3</td>\n",
       "      <td>157606.0</td>\n",
       "      <td>138.12</td>\n",
       "      <td>62.0</td>\n",
       "      <td>NaN</td>\n",
       "    </tr>\n",
       "    <tr>\n",
       "      <th>3</th>\n",
       "      <td>Animation,Comedy,Family</td>\n",
       "      <td>Christophe Lourdelet</td>\n",
       "      <td>Matthew McConaughey,Reese Witherspoon, Seth Ma...</td>\n",
       "      <td>2016</td>\n",
       "      <td>108</td>\n",
       "      <td>7.2</td>\n",
       "      <td>60545.0</td>\n",
       "      <td>270.32</td>\n",
       "      <td>59.0</td>\n",
       "      <td>H-</td>\n",
       "    </tr>\n",
       "    <tr>\n",
       "      <th>4</th>\n",
       "      <td>Action,Adventure,Fantasy</td>\n",
       "      <td>David Ayer</td>\n",
       "      <td>Will Smith, Jared Leto, Margot Robbie, Viola D...</td>\n",
       "      <td>2016</td>\n",
       "      <td>123</td>\n",
       "      <td>6.2</td>\n",
       "      <td>393727.0</td>\n",
       "      <td>325.02</td>\n",
       "      <td>40.0</td>\n",
       "      <td>NaN</td>\n",
       "    </tr>\n",
       "  </tbody>\n",
       "</table>\n",
       "</div>"
      ],
      "text/plain": [
       "                      Genre              Director  \\\n",
       "0   Action,Adventure,Sci-Fi            James Gunn   \n",
       "1  Adventure,Mystery,Sci-Fi          Ridley Scott   \n",
       "2           Horror,Thriller    M. Night Shyamalan   \n",
       "3   Animation,Comedy,Family  Christophe Lourdelet   \n",
       "4  Action,Adventure,Fantasy            David Ayer   \n",
       "\n",
       "                                              Actors  Year  Runtime (Minutes)  \\\n",
       "0  Chris Pratt, Vin Diesel, Bradley Cooper, Zoe S...  2014                121   \n",
       "1  Noomi Rapace, Logan Marshall-Green, Michael Fa...  2012                124   \n",
       "2  James McAvoy, Anya Taylor-Joy, Haley Lu Richar...  2016                117   \n",
       "3  Matthew McConaughey,Reese Witherspoon, Seth Ma...  2016                108   \n",
       "4  Will Smith, Jared Leto, Margot Robbie, Viola D...  2016                123   \n",
       "\n",
       "   Rating     Votes  Revenue (Millions)  Metascore award  \n",
       "0     8.1  757074.0              333.13       76.0   NaN  \n",
       "1     7.0  485820.0              126.46       65.0   NaN  \n",
       "2     7.3  157606.0              138.12       62.0   NaN  \n",
       "3     7.2   60545.0              270.32       59.0    H-  \n",
       "4     6.2  393727.0              325.02       40.0   NaN  "
      ]
     },
     "execution_count": 16,
     "metadata": {},
     "output_type": "execute_result"
    }
   ],
   "source": [
    "db.drop(['Rank','Title','Description','l_name','l_score'],axis=1,inplace=True)\n",
    "db.head()"
   ]
  },
  {
   "cell_type": "code",
   "execution_count": 17,
   "metadata": {},
   "outputs": [],
   "source": [
    "rate = []\n",
    "for i in db['Rating']:\n",
    "    if i>=0 and i<2.4:\n",
    "        rate.append('Terrible')\n",
    "    elif i>=2.4 and i<=5:\n",
    "        rate.append('Poor')\n",
    "    elif i>=5.1 and i<=7.4:\n",
    "        rate.append('Average')\n",
    "    else:\n",
    "        rate.append('Excellent')\n",
    "db['Rating']=rate"
   ]
  },
  {
   "cell_type": "code",
   "execution_count": 18,
   "metadata": {},
   "outputs": [],
   "source": [
    "from sklearn.preprocessing import LabelEncoder\n",
    "ge = LabelEncoder().fit_transform(db['Genre'])\n",
    "db['Genre'] = ge\n",
    "\n",
    "ac = LabelEncoder().fit_transform(db['Actors'])\n",
    "db['Actors'] = ac\n",
    "\n",
    "di = LabelEncoder().fit_transform(db['Director'])\n",
    "db['Director'] = di\n",
    "\n",
    "aw = LabelEncoder().fit_transform(db['award'])\n",
    "db['award'] = aw\n",
    "\n",
    "\n",
    "r = LabelEncoder().fit_transform(db['Rating'])\n",
    "db['Rating'] = r\n"
   ]
  },
  {
   "cell_type": "code",
   "execution_count": 19,
   "metadata": {},
   "outputs": [
    {
     "data": {
      "text/html": [
       "<div>\n",
       "<style scoped>\n",
       "    .dataframe tbody tr th:only-of-type {\n",
       "        vertical-align: middle;\n",
       "    }\n",
       "\n",
       "    .dataframe tbody tr th {\n",
       "        vertical-align: top;\n",
       "    }\n",
       "\n",
       "    .dataframe thead th {\n",
       "        text-align: right;\n",
       "    }\n",
       "</style>\n",
       "<table border=\"1\" class=\"dataframe\">\n",
       "  <thead>\n",
       "    <tr style=\"text-align: right;\">\n",
       "      <th></th>\n",
       "      <th>Genre</th>\n",
       "      <th>Director</th>\n",
       "      <th>Actors</th>\n",
       "      <th>Year</th>\n",
       "      <th>Runtime (Minutes)</th>\n",
       "      <th>Rating</th>\n",
       "      <th>Votes</th>\n",
       "      <th>Revenue (Millions)</th>\n",
       "      <th>Metascore</th>\n",
       "      <th>award</th>\n",
       "    </tr>\n",
       "  </thead>\n",
       "  <tbody>\n",
       "    <tr>\n",
       "      <th>0</th>\n",
       "      <td>11</td>\n",
       "      <td>267</td>\n",
       "      <td>183</td>\n",
       "      <td>2014</td>\n",
       "      <td>121</td>\n",
       "      <td>1</td>\n",
       "      <td>757074.0</td>\n",
       "      <td>333.13</td>\n",
       "      <td>76.0</td>\n",
       "      <td>146</td>\n",
       "    </tr>\n",
       "    <tr>\n",
       "      <th>1</th>\n",
       "      <td>85</td>\n",
       "      <td>519</td>\n",
       "      <td>737</td>\n",
       "      <td>2012</td>\n",
       "      <td>124</td>\n",
       "      <td>0</td>\n",
       "      <td>485820.0</td>\n",
       "      <td>126.46</td>\n",
       "      <td>65.0</td>\n",
       "      <td>146</td>\n",
       "    </tr>\n",
       "    <tr>\n",
       "      <th>2</th>\n",
       "      <td>195</td>\n",
       "      <td>392</td>\n",
       "      <td>417</td>\n",
       "      <td>2016</td>\n",
       "      <td>117</td>\n",
       "      <td>0</td>\n",
       "      <td>157606.0</td>\n",
       "      <td>138.12</td>\n",
       "      <td>62.0</td>\n",
       "      <td>146</td>\n",
       "    </tr>\n",
       "    <tr>\n",
       "      <th>3</th>\n",
       "      <td>92</td>\n",
       "      <td>108</td>\n",
       "      <td>659</td>\n",
       "      <td>2016</td>\n",
       "      <td>108</td>\n",
       "      <td>0</td>\n",
       "      <td>60545.0</td>\n",
       "      <td>270.32</td>\n",
       "      <td>59.0</td>\n",
       "      <td>119</td>\n",
       "    </tr>\n",
       "    <tr>\n",
       "      <th>4</th>\n",
       "      <td>7</td>\n",
       "      <td>139</td>\n",
       "      <td>971</td>\n",
       "      <td>2016</td>\n",
       "      <td>123</td>\n",
       "      <td>0</td>\n",
       "      <td>393727.0</td>\n",
       "      <td>325.02</td>\n",
       "      <td>40.0</td>\n",
       "      <td>146</td>\n",
       "    </tr>\n",
       "  </tbody>\n",
       "</table>\n",
       "</div>"
      ],
      "text/plain": [
       "   Genre  Director  Actors  Year  Runtime (Minutes)  Rating     Votes  \\\n",
       "0     11       267     183  2014                121       1  757074.0   \n",
       "1     85       519     737  2012                124       0  485820.0   \n",
       "2    195       392     417  2016                117       0  157606.0   \n",
       "3     92       108     659  2016                108       0   60545.0   \n",
       "4      7       139     971  2016                123       0  393727.0   \n",
       "\n",
       "   Revenue (Millions)  Metascore  award  \n",
       "0              333.13       76.0    146  \n",
       "1              126.46       65.0    146  \n",
       "2              138.12       62.0    146  \n",
       "3              270.32       59.0    119  \n",
       "4              325.02       40.0    146  "
      ]
     },
     "execution_count": 19,
     "metadata": {},
     "output_type": "execute_result"
    }
   ],
   "source": [
    "l = []\n",
    "for i,j in enumerate(db.Year):\n",
    "    if j.isnumeric() == False:\n",
    "        l.append(i)\n",
    "db.drop(db.index[l],inplace=True)\n",
    "db.head()"
   ]
  },
  {
   "cell_type": "markdown",
   "metadata": {},
   "source": [
    "# Spliting:-"
   ]
  },
  {
   "cell_type": "code",
   "execution_count": 20,
   "metadata": {},
   "outputs": [],
   "source": [
    "OTT = db[db.Year=='2016']\n",
    "other =  db[db.Year!='2016']\n",
    "X = other.drop(['Rating'],axis=1)\n",
    "Y = other['Rating']"
   ]
  },
  {
   "cell_type": "markdown",
   "metadata": {},
   "source": [
    "# Machine Learning:-"
   ]
  },
  {
   "cell_type": "code",
   "execution_count": 46,
   "metadata": {},
   "outputs": [],
   "source": [
    "from sklearn.model_selection import train_test_split\n",
    "from sklearn.linear_model import LassoLars\n",
    "from sklearn.svm import SVR\n",
    "import random\n",
    "\n",
    "Xtrain,Xtest,Ytrain,Ytest = train_test_split( X, Y, test_size=0.33, random_state=random.randint(1,101))\n",
    "\n",
    "from sklearn.metrics import mean_absolute_error\n",
    "from sklearn.metrics import r2_score\n",
    "from sklearn.metrics import accuracy_score\n",
    "from sklearn.metrics import roc_auc_score"
   ]
  },
  {
   "cell_type": "code",
   "execution_count": 23,
   "metadata": {},
   "outputs": [],
   "source": [
    "l_clf = LassoLars(alpha=.1).fit(Xtrain,Ytrain)\n",
    "lars = l_clf.predict(Xtest)\n",
    "s_clf = SVR().fit(Xtrain,Ytrain)\n",
    "svr = s_clf.predict(Xtest)\n",
    "\n",
    "import numpy as np\n",
    "lars=np.round_(lars)\n",
    "svr=np.round_(svr)"
   ]
  },
  {
   "cell_type": "markdown",
   "metadata": {},
   "source": [
    "### LassoLars Score:-"
   ]
  },
  {
   "cell_type": "code",
   "execution_count": 58,
   "metadata": {},
   "outputs": [
    {
     "name": "stdout",
     "output_type": "stream",
     "text": [
      "MAE = 0.31\n",
      "R2 = 0.00\n",
      "Accuracy = 0.72\n"
     ]
    }
   ],
   "source": [
    "print(\"MAE = %.2f\"%mean_absolute_error(lars,Ytest))\n",
    "print(\"R2 = %.2f\"%r2_score(lars,Ytest))\n",
    "print(\"Accuracy = %.2f\"%accuracy_score(lars,Ytest))"
   ]
  },
  {
   "cell_type": "markdown",
   "metadata": {},
   "source": [
    "### SVR Score:-"
   ]
  },
  {
   "cell_type": "code",
   "execution_count": 34,
   "metadata": {},
   "outputs": [
    {
     "name": "stdout",
     "output_type": "stream",
     "text": [
      "SVR:-\n",
      "MAE = 0.30\n",
      "R2 = 0.00\n",
      "Accuracy = 0.72\n"
     ]
    }
   ],
   "source": [
    "print(\"SVR:-\")\n",
    "print(\"MAE = %.2f\"%mean_absolute_error(svr,Ytest))\n",
    "print(\"R2 = %.2f\"%r2_score(svr,Ytest))\n",
    "print(\"Accuracy = %.2f\"%accuracy_score(svr,Ytest))"
   ]
  },
  {
   "cell_type": "markdown",
   "metadata": {},
   "source": [
    "# Out Of Time (2016) :-"
   ]
  },
  {
   "cell_type": "code",
   "execution_count": 28,
   "metadata": {},
   "outputs": [],
   "source": [
    "ootX,ootY=OTT.drop(['Rating'],axis=1),OTT['Rating']\n",
    "oot1 = l_clf.predict(ootX)\n",
    "oot2 = s_clf.predict(ootX)\n",
    "oot1=np.round_(oot1)\n",
    "oot2=np.round_(oot2)"
   ]
  },
  {
   "cell_type": "markdown",
   "metadata": {},
   "source": [
    "### LassoLars Score:-"
   ]
  },
  {
   "cell_type": "code",
   "execution_count": 40,
   "metadata": {},
   "outputs": [
    {
     "name": "stdout",
     "output_type": "stream",
     "text": [
      "MAE = 0.34\n",
      "R2 = 0.00\n"
     ]
    }
   ],
   "source": [
    "print(\"MAE = %.2f\"%mean_absolute_error(oot1,ootY))\n",
    "print(\"R2 = %.2f\"%r2_score(oot1,ootY))"
   ]
  },
  {
   "cell_type": "markdown",
   "metadata": {},
   "source": [
    "### SVR Score:-"
   ]
  },
  {
   "cell_type": "code",
   "execution_count": 38,
   "metadata": {},
   "outputs": [
    {
     "name": "stdout",
     "output_type": "stream",
     "text": [
      "MAE = 0.34\n",
      "R2 = 0.00\n"
     ]
    }
   ],
   "source": [
    "print(\"MAE = %.2f\"%mean_absolute_error(oot2,ootY))\n",
    "print(\"R2 = %.2f\"%r2_score(oot2,ootY))"
   ]
  },
  {
   "cell_type": "markdown",
   "metadata": {},
   "source": [
    "# FUN FUNCTION:-"
   ]
  },
  {
   "cell_type": "code",
   "execution_count": 79,
   "metadata": {},
   "outputs": [],
   "source": [
    "def fun_name(movie_name):\n",
    "    fun = pd.read_csv('merge.csv')\n",
    "    name,score,x = process.extractOne(movie_name, fun['Title'])\n",
    "    l = (fun['Title'] == name).idxmax()\n",
    "    if l == 0 and fun['Title'][l]==name:\n",
    "        return fun['Rating'][l]\n",
    "    else:\n",
    "        return \"Unknown\""
   ]
  },
  {
   "cell_type": "code",
   "execution_count": 80,
   "metadata": {},
   "outputs": [
    {
     "name": "stdout",
     "output_type": "stream",
     "text": [
      "8.1\n"
     ]
    }
   ],
   "source": [
    "print(fun_name('Guardians of the Gala'))"
   ]
  },
  {
   "cell_type": "code",
   "execution_count": 81,
   "metadata": {},
   "outputs": [
    {
     "name": "stdout",
     "output_type": "stream",
     "text": [
      "Unknown\n"
     ]
    }
   ],
   "source": [
    "print(fun_name('DOOM45'))"
   ]
  },
  {
   "cell_type": "code",
   "execution_count": null,
   "metadata": {},
   "outputs": [],
   "source": []
  }
 ],
 "metadata": {
  "kernelspec": {
   "display_name": "Python [conda root]",
   "language": "python",
   "name": "conda-root-py"
  },
  "language_info": {
   "codemirror_mode": {
    "name": "ipython",
    "version": 3
   },
   "file_extension": ".py",
   "mimetype": "text/x-python",
   "name": "python",
   "nbconvert_exporter": "python",
   "pygments_lexer": "ipython3",
   "version": "3.6.3"
  },
  "nbpresent": {
   "slides": {
    "03003482-2d72-47b4-a9f6-cc4dd523eb89": {
     "id": "03003482-2d72-47b4-a9f6-cc4dd523eb89",
     "prev": "6975d153-205e-49bd-9259-07439c80ff21",
     "regions": {
      "6388405b-743c-418e-842d-0bb3714c7a4c": {
       "attrs": {
        "height": 0.8,
        "width": 0.8,
        "x": 0.1,
        "y": 0.1
       },
       "content": {
        "cell": "ad73744b-38db-4cf8-8e40-9020309df4a3",
        "part": "whole"
       },
       "id": "6388405b-743c-418e-842d-0bb3714c7a4c"
      }
     }
    },
    "1f6a1bd3-a59f-4e59-99ab-88c13a61a582": {
     "id": "1f6a1bd3-a59f-4e59-99ab-88c13a61a582",
     "prev": "a949f509-944f-499d-8d71-935792fda9ab",
     "regions": {
      "1cb5dfaf-2626-4603-8b13-8338bf655ef4": {
       "attrs": {
        "height": 0.8,
        "width": 0.8,
        "x": 0.1,
        "y": 0.1
       },
       "content": {
        "cell": "39fe80b5-7223-4979-a88c-65127f65533f",
        "part": "whole"
       },
       "id": "1cb5dfaf-2626-4603-8b13-8338bf655ef4"
      }
     }
    },
    "20c87d4a-e17e-4306-b56e-735edf1bceae": {
     "id": "20c87d4a-e17e-4306-b56e-735edf1bceae",
     "prev": "953bc52d-5eed-4f7c-891c-b5c5dd5fe185",
     "regions": {
      "fec41636-f2fb-43ea-b155-ef07a6b55124": {
       "attrs": {
        "height": 0.8,
        "width": 0.8,
        "x": 0.1,
        "y": 0.1
       },
       "content": {
        "cell": "3eaaab34-178a-47ec-b16c-77c8d546ce80",
        "part": "whole"
       },
       "id": "fec41636-f2fb-43ea-b155-ef07a6b55124"
      }
     }
    },
    "21a61eb1-57a2-4df9-9316-887d83d451cc": {
     "id": "21a61eb1-57a2-4df9-9316-887d83d451cc",
     "prev": "2676410d-4d0a-4c51-ac5a-fadd3c50ea01",
     "regions": {
      "f07a737e-8b17-448b-a5d3-816bf53f1777": {
       "attrs": {
        "height": 0.8,
        "width": 0.8,
        "x": 0.1,
        "y": 0.1
       },
       "content": {
        "cell": "265bf415-9484-4bed-bdc6-d198bf9463b8",
        "part": "whole"
       },
       "id": "f07a737e-8b17-448b-a5d3-816bf53f1777"
      }
     }
    },
    "2676410d-4d0a-4c51-ac5a-fadd3c50ea01": {
     "id": "2676410d-4d0a-4c51-ac5a-fadd3c50ea01",
     "prev": "e36877b1-cf9e-4a19-8f06-e9ee4ea5cebb",
     "regions": {
      "85b902cd-48be-4d59-822a-ec572eb93892": {
       "attrs": {
        "height": 0.8,
        "width": 0.8,
        "x": 0.1,
        "y": 0.1
       },
       "content": {
        "cell": "c7fac95e-7cc4-4329-a98c-bc2d044cfbb2",
        "part": "whole"
       },
       "id": "85b902cd-48be-4d59-822a-ec572eb93892"
      }
     }
    },
    "31b31e0d-f945-4784-b372-e851c9750b43": {
     "id": "31b31e0d-f945-4784-b372-e851c9750b43",
     "prev": "3d35bfcc-cbad-4b6f-899e-5075de1f3972",
     "regions": {
      "33e0d3e1-5b92-4c4e-81e8-e72bed296379": {
       "attrs": {
        "height": 0.8,
        "width": 0.8,
        "x": 0.1,
        "y": 0.1
       },
       "content": {
        "cell": "6115c56c-24ef-409a-b797-03cdb7a947fe",
        "part": "whole"
       },
       "id": "33e0d3e1-5b92-4c4e-81e8-e72bed296379"
      }
     }
    },
    "35ea25a2-949d-4a3b-bc8d-17d2fb54cf8c": {
     "id": "35ea25a2-949d-4a3b-bc8d-17d2fb54cf8c",
     "prev": "31b31e0d-f945-4784-b372-e851c9750b43",
     "regions": {
      "2c2107eb-61db-4a39-82f5-58799764d3fa": {
       "attrs": {
        "height": 0.8,
        "width": 0.8,
        "x": 0.1,
        "y": 0.1
       },
       "content": {
        "cell": "134f628c-6ad6-4163-80a7-c70472debf67",
        "part": "whole"
       },
       "id": "2c2107eb-61db-4a39-82f5-58799764d3fa"
      }
     }
    },
    "386fb8bf-059a-4ec9-a4fe-324882f60491": {
     "id": "386fb8bf-059a-4ec9-a4fe-324882f60491",
     "prev": "6c4b9c39-d1df-4bd5-af55-e7aa950cd920",
     "regions": {
      "6b48dc52-c75a-493b-ad61-b91256e3cf35": {
       "attrs": {
        "height": 0.8,
        "width": 0.8,
        "x": 0.1,
        "y": 0.1
       },
       "content": {
        "cell": "5fcbbe4c-733d-4a5d-9979-2ce9fd2090f8",
        "part": "whole"
       },
       "id": "6b48dc52-c75a-493b-ad61-b91256e3cf35"
      }
     }
    },
    "397490d3-a393-4bfb-816b-8ad8046bfc90": {
     "id": "397490d3-a393-4bfb-816b-8ad8046bfc90",
     "prev": "e79c7a40-e4e4-4256-b2e3-e638ba094771",
     "regions": {
      "eb0e484b-7b40-4aa5-8715-7dc387d6b1e1": {
       "attrs": {
        "height": 0.8,
        "width": 0.8,
        "x": 0.1,
        "y": 0.1
       },
       "content": {
        "cell": "57a85f77-763e-4dd7-8c6a-c3c999969f13",
        "part": "whole"
       },
       "id": "eb0e484b-7b40-4aa5-8715-7dc387d6b1e1"
      }
     }
    },
    "3a916b5d-7d4b-443f-af69-f965bb914f59": {
     "id": "3a916b5d-7d4b-443f-af69-f965bb914f59",
     "prev": "412f30d5-9367-4cc9-9de4-e84995991ea1",
     "regions": {
      "aad47797-1679-43a2-8cab-6a8a267568b2": {
       "attrs": {
        "height": 0.8,
        "width": 0.8,
        "x": 0.1,
        "y": 0.1
       },
       "content": {
        "cell": "bc16f201-d0f8-4dd2-b6db-a5abb1aa22ae",
        "part": "whole"
       },
       "id": "aad47797-1679-43a2-8cab-6a8a267568b2"
      }
     }
    },
    "3cacdfb9-92b5-43d4-99e9-123c179c138d": {
     "id": "3cacdfb9-92b5-43d4-99e9-123c179c138d",
     "prev": "6bf0cb7c-0463-4d8b-b390-3367ce13186b",
     "regions": {
      "b334621f-dd4d-4d6d-8123-0d50f3dba751": {
       "attrs": {
        "height": 0.8,
        "width": 0.8,
        "x": 0.1,
        "y": 0.1
       },
       "content": {
        "cell": "6dbe628c-e37b-4d55-b579-c0195d7b4005",
        "part": "whole"
       },
       "id": "b334621f-dd4d-4d6d-8123-0d50f3dba751"
      }
     }
    },
    "3d35bfcc-cbad-4b6f-899e-5075de1f3972": {
     "id": "3d35bfcc-cbad-4b6f-899e-5075de1f3972",
     "prev": "3cacdfb9-92b5-43d4-99e9-123c179c138d",
     "regions": {
      "a998fd22-7cdd-4a26-bf99-84d2f19eada2": {
       "attrs": {
        "height": 0.8,
        "width": 0.8,
        "x": 0.1,
        "y": 0.1
       },
       "content": {
        "cell": "3be8c2ae-b420-4d42-b3ff-92a58f9e38bc",
        "part": "whole"
       },
       "id": "a998fd22-7cdd-4a26-bf99-84d2f19eada2"
      }
     }
    },
    "412f30d5-9367-4cc9-9de4-e84995991ea1": {
     "id": "412f30d5-9367-4cc9-9de4-e84995991ea1",
     "prev": "808f059e-fd89-449b-967c-f181abcdce45",
     "regions": {
      "7a14d267-98ad-4969-aaca-c8afa6ff3911": {
       "attrs": {
        "height": 0.8,
        "width": 0.8,
        "x": 0.1,
        "y": 0.1
       },
       "content": {
        "cell": "7d5d892f-4d77-4dc4-a9f4-9f7188b6c835",
        "part": "whole"
       },
       "id": "7a14d267-98ad-4969-aaca-c8afa6ff3911"
      }
     }
    },
    "41d93c91-47f9-42f2-83e1-70f0deabf235": {
     "id": "41d93c91-47f9-42f2-83e1-70f0deabf235",
     "prev": "62aa932c-4dc1-45cd-96d8-cd406965bc16",
     "regions": {
      "83ab24f3-df3e-4e53-959e-8f3e68fcd6fd": {
       "attrs": {
        "height": 0.8,
        "width": 0.8,
        "x": 0.1,
        "y": 0.1
       },
       "content": {
        "cell": "5e013807-5fbf-49ca-8aae-864d12d9030d",
        "part": "whole"
       },
       "id": "83ab24f3-df3e-4e53-959e-8f3e68fcd6fd"
      }
     }
    },
    "474c67d4-404d-4c3c-acca-d4c5d4df5e29": {
     "id": "474c67d4-404d-4c3c-acca-d4c5d4df5e29",
     "prev": "21a61eb1-57a2-4df9-9316-887d83d451cc",
     "regions": {
      "8c5a1a84-0577-458c-a042-3b0e2c340f56": {
       "attrs": {
        "height": 0.8,
        "width": 0.8,
        "x": 0.1,
        "y": 0.1
       },
       "content": {
        "cell": "a2913861-4c7d-44b5-ad9f-ec13ff309b1d",
        "part": "whole"
       },
       "id": "8c5a1a84-0577-458c-a042-3b0e2c340f56"
      }
     }
    },
    "5e4df525-afe5-4725-abee-d0f2045b153c": {
     "id": "5e4df525-afe5-4725-abee-d0f2045b153c",
     "prev": "6b42e83e-533c-4d2a-b1e7-0bb6ef230728",
     "regions": {
      "26d77c65-690a-4926-91f1-b252a191b439": {
       "attrs": {
        "height": 0.8,
        "width": 0.8,
        "x": 0.1,
        "y": 0.1
       },
       "content": {
        "cell": "2efb2b25-f87f-4115-aeed-07421771bc8c",
        "part": "whole"
       },
       "id": "26d77c65-690a-4926-91f1-b252a191b439"
      }
     }
    },
    "62aa932c-4dc1-45cd-96d8-cd406965bc16": {
     "id": "62aa932c-4dc1-45cd-96d8-cd406965bc16",
     "prev": "35ea25a2-949d-4a3b-bc8d-17d2fb54cf8c",
     "regions": {
      "2b83ba28-d1cd-4a8c-80ee-54a4bfd85ea1": {
       "attrs": {
        "height": 0.8,
        "width": 0.8,
        "x": 0.1,
        "y": 0.1
       },
       "content": {
        "cell": "89ec815c-fc46-499b-9b1e-504eefb4fad8",
        "part": "whole"
       },
       "id": "2b83ba28-d1cd-4a8c-80ee-54a4bfd85ea1"
      }
     }
    },
    "6975d153-205e-49bd-9259-07439c80ff21": {
     "id": "6975d153-205e-49bd-9259-07439c80ff21",
     "prev": "5e4df525-afe5-4725-abee-d0f2045b153c",
     "regions": {
      "fb6c3283-ac69-471b-a00a-ec1bf3178101": {
       "attrs": {
        "height": 0.8,
        "width": 0.8,
        "x": 0.1,
        "y": 0.1
       },
       "content": {
        "cell": "d330c24c-493d-4a2e-a5bc-4ffd231e5c0f",
        "part": "whole"
       },
       "id": "fb6c3283-ac69-471b-a00a-ec1bf3178101"
      }
     }
    },
    "6b42e83e-533c-4d2a-b1e7-0bb6ef230728": {
     "id": "6b42e83e-533c-4d2a-b1e7-0bb6ef230728",
     "prev": "474c67d4-404d-4c3c-acca-d4c5d4df5e29",
     "regions": {
      "1cbfb50e-e775-4ead-98d9-55f5d742073c": {
       "attrs": {
        "height": 0.8,
        "width": 0.8,
        "x": 0.1,
        "y": 0.1
       },
       "content": {
        "cell": "04a5cdd0-53c9-48ca-b071-554234b08540",
        "part": "whole"
       },
       "id": "1cbfb50e-e775-4ead-98d9-55f5d742073c"
      }
     }
    },
    "6bf0cb7c-0463-4d8b-b390-3367ce13186b": {
     "id": "6bf0cb7c-0463-4d8b-b390-3367ce13186b",
     "prev": "397490d3-a393-4bfb-816b-8ad8046bfc90",
     "regions": {
      "647f0ee3-08da-491f-a728-1be899517f7e": {
       "attrs": {
        "height": 0.8,
        "width": 0.8,
        "x": 0.1,
        "y": 0.1
       },
       "content": {
        "cell": "a0ce34b0-2327-4b6e-a13c-35fbd58a9301",
        "part": "whole"
       },
       "id": "647f0ee3-08da-491f-a728-1be899517f7e"
      }
     }
    },
    "6c4b9c39-d1df-4bd5-af55-e7aa950cd920": {
     "id": "6c4b9c39-d1df-4bd5-af55-e7aa950cd920",
     "prev": "1f6a1bd3-a59f-4e59-99ab-88c13a61a582",
     "regions": {
      "034ea374-82d0-40e0-af3a-1a7a95cae35d": {
       "attrs": {
        "height": 0.8,
        "width": 0.8,
        "x": 0.1,
        "y": 0.1
       },
       "content": {
        "cell": "13957631-7fc6-43a5-9b60-9b9728fcb78c",
        "part": "whole"
       },
       "id": "034ea374-82d0-40e0-af3a-1a7a95cae35d"
      }
     }
    },
    "6f961834-1e1c-4fe0-8606-07074d8dcdc1": {
     "id": "6f961834-1e1c-4fe0-8606-07074d8dcdc1",
     "prev": "aab3863b-a79d-4df0-83db-35964eabb9cc",
     "regions": {
      "2281d91f-0ee8-479a-a71d-1a426ad17f44": {
       "attrs": {
        "height": 0.8,
        "width": 0.8,
        "x": 0.1,
        "y": 0.1
       },
       "content": {
        "cell": "df47049d-2c1d-4959-9946-84931affd377",
        "part": "whole"
       },
       "id": "2281d91f-0ee8-479a-a71d-1a426ad17f44"
      }
     }
    },
    "808f059e-fd89-449b-967c-f181abcdce45": {
     "id": "808f059e-fd89-449b-967c-f181abcdce45",
     "prev": "41d93c91-47f9-42f2-83e1-70f0deabf235",
     "regions": {
      "eb21aa12-1fcc-4899-883c-3e20ce3a9fba": {
       "attrs": {
        "height": 0.8,
        "width": 0.8,
        "x": 0.1,
        "y": 0.1
       },
       "content": {
        "cell": "6e78d8a8-f510-46f9-a108-abb2216c6f9f",
        "part": "whole"
       },
       "id": "eb21aa12-1fcc-4899-883c-3e20ce3a9fba"
      }
     }
    },
    "953bc52d-5eed-4f7c-891c-b5c5dd5fe185": {
     "id": "953bc52d-5eed-4f7c-891c-b5c5dd5fe185",
     "prev": "386fb8bf-059a-4ec9-a4fe-324882f60491",
     "regions": {
      "917e2c57-d673-449a-81c2-f3807e059cf3": {
       "attrs": {
        "height": 0.8,
        "width": 0.8,
        "x": 0.1,
        "y": 0.1
       },
       "content": {
        "cell": "1c754c8a-1379-49e3-9050-6d1a11dbf093",
        "part": "whole"
       },
       "id": "917e2c57-d673-449a-81c2-f3807e059cf3"
      }
     }
    },
    "9b60a4ca-dd26-4c38-aa44-3f7ab0d00907": {
     "id": "9b60a4ca-dd26-4c38-aa44-3f7ab0d00907",
     "prev": "03003482-2d72-47b4-a9f6-cc4dd523eb89",
     "regions": {
      "bbc9bb73-c330-4c3d-b2ef-30490b8ef3a5": {
       "attrs": {
        "height": 0.8,
        "width": 0.8,
        "x": 0.1,
        "y": 0.1
       },
       "content": {
        "cell": "9f1da924-693e-4f53-b5fc-aee764e4ebc7",
        "part": "whole"
       },
       "id": "bbc9bb73-c330-4c3d-b2ef-30490b8ef3a5"
      }
     }
    },
    "a949f509-944f-499d-8d71-935792fda9ab": {
     "id": "a949f509-944f-499d-8d71-935792fda9ab",
     "prev": "ef425eb4-6c2d-4956-8800-dce9c328c327",
     "regions": {
      "84f28493-78b9-4280-a7fd-ff2163750599": {
       "attrs": {
        "height": 0.8,
        "width": 0.8,
        "x": 0.1,
        "y": 0.1
       },
       "content": {
        "cell": "d28d051d-3202-459a-9802-fcbeeae54e0d",
        "part": "whole"
       },
       "id": "84f28493-78b9-4280-a7fd-ff2163750599"
      }
     }
    },
    "aab3863b-a79d-4df0-83db-35964eabb9cc": {
     "id": "aab3863b-a79d-4df0-83db-35964eabb9cc",
     "prev": "20c87d4a-e17e-4306-b56e-735edf1bceae",
     "regions": {
      "17b55544-805e-4ecb-94e3-42195c9433a4": {
       "attrs": {
        "height": 0.8,
        "width": 0.8,
        "x": 0.1,
        "y": 0.1
       },
       "content": {
        "cell": "8f0b6d44-160e-4b36-90e4-4e3825e513ec",
        "part": "whole"
       },
       "id": "17b55544-805e-4ecb-94e3-42195c9433a4"
      }
     }
    },
    "e36877b1-cf9e-4a19-8f06-e9ee4ea5cebb": {
     "id": "e36877b1-cf9e-4a19-8f06-e9ee4ea5cebb",
     "prev": null,
     "regions": {
      "54ac63d1-275c-4d31-bd7b-7274bb496871": {
       "attrs": {
        "height": 0.8,
        "width": 0.8,
        "x": 0.1,
        "y": 0.1
       },
       "content": {
        "cell": "b39bfa9a-7e14-4a57-9966-23c3da0e50b1",
        "part": "whole"
       },
       "id": "54ac63d1-275c-4d31-bd7b-7274bb496871"
      }
     }
    },
    "e79c7a40-e4e4-4256-b2e3-e638ba094771": {
     "id": "e79c7a40-e4e4-4256-b2e3-e638ba094771",
     "prev": "6f961834-1e1c-4fe0-8606-07074d8dcdc1",
     "regions": {
      "fdd07da3-865e-4c4e-8781-2f0056d94ccf": {
       "attrs": {
        "height": 0.8,
        "width": 0.8,
        "x": 0.1,
        "y": 0.1
       },
       "content": {
        "cell": "c1c276db-80c0-4d86-871e-f68b595ba5c6",
        "part": "whole"
       },
       "id": "fdd07da3-865e-4c4e-8781-2f0056d94ccf"
      }
     }
    },
    "ef425eb4-6c2d-4956-8800-dce9c328c327": {
     "id": "ef425eb4-6c2d-4956-8800-dce9c328c327",
     "prev": "9b60a4ca-dd26-4c38-aa44-3f7ab0d00907",
     "regions": {
      "7a325d42-73f4-41f4-9977-9b90b7fbba60": {
       "attrs": {
        "height": 0.8,
        "width": 0.8,
        "x": 0.1,
        "y": 0.1
       },
       "content": {
        "cell": "46ee4a30-5659-4625-9a7d-64a3b46c3fb0",
        "part": "whole"
       },
       "id": "7a325d42-73f4-41f4-9977-9b90b7fbba60"
      }
     }
    }
   },
   "themes": {}
  }
 },
 "nbformat": 4,
 "nbformat_minor": 2
}
